{
 "cells": [
  {
   "cell_type": "code",
   "execution_count": 1,
   "id": "f1f823ad",
   "metadata": {},
   "outputs": [],
   "source": [
    "import warnings\n",
    "warnings.filterwarnings(\"ignore\")"
   ]
  },
  {
   "cell_type": "code",
   "execution_count": 2,
   "id": "199962e0",
   "metadata": {},
   "outputs": [],
   "source": [
    "import numpy as np\n",
    "import pandas as pd\n"
   ]
  },
  {
   "cell_type": "code",
   "execution_count": null,
   "id": "214ff9a3",
   "metadata": {},
   "outputs": [],
   "source": []
  },
  {
   "cell_type": "code",
   "execution_count": 3,
   "id": "574faa42",
   "metadata": {
    "scrolled": true
   },
   "outputs": [
    {
     "data": {
      "text/html": [
       "<div>\n",
       "<style scoped>\n",
       "    .dataframe tbody tr th:only-of-type {\n",
       "        vertical-align: middle;\n",
       "    }\n",
       "\n",
       "    .dataframe tbody tr th {\n",
       "        vertical-align: top;\n",
       "    }\n",
       "\n",
       "    .dataframe thead th {\n",
       "        text-align: right;\n",
       "    }\n",
       "</style>\n",
       "<table border=\"1\" class=\"dataframe\">\n",
       "  <thead>\n",
       "    <tr style=\"text-align: right;\">\n",
       "      <th></th>\n",
       "      <th>id</th>\n",
       "      <th>customer_id</th>\n",
       "      <th>location_id</th>\n",
       "      <th>channel</th>\n",
       "      <th>amount</th>\n",
       "      <th>bill_no</th>\n",
       "      <th>created_on</th>\n",
       "    </tr>\n",
       "  </thead>\n",
       "  <tbody>\n",
       "    <tr>\n",
       "      <th>0</th>\n",
       "      <td>42877344</td>\n",
       "      <td>60</td>\n",
       "      <td>192</td>\n",
       "      <td>uber</td>\n",
       "      <td>1039</td>\n",
       "      <td>GGN001-24323</td>\n",
       "      <td>24-06-2018 00:00</td>\n",
       "    </tr>\n",
       "    <tr>\n",
       "      <th>1</th>\n",
       "      <td>35625005</td>\n",
       "      <td>134</td>\n",
       "      <td>535</td>\n",
       "      <td>takeaway</td>\n",
       "      <td>1029</td>\n",
       "      <td>DEL007-1522</td>\n",
       "      <td>14-01-2018 19:21</td>\n",
       "    </tr>\n",
       "    <tr>\n",
       "      <th>2</th>\n",
       "      <td>44397299</td>\n",
       "      <td>166</td>\n",
       "      <td>347</td>\n",
       "      <td>uber</td>\n",
       "      <td>355</td>\n",
       "      <td>DEL005-29173</td>\n",
       "      <td>13-09-2018 13:40</td>\n",
       "    </tr>\n",
       "    <tr>\n",
       "      <th>3</th>\n",
       "      <td>44405460</td>\n",
       "      <td>166</td>\n",
       "      <td>347</td>\n",
       "      <td>uber</td>\n",
       "      <td>371</td>\n",
       "      <td>DEL005-29180</td>\n",
       "      <td>13-09-2018 14:33</td>\n",
       "    </tr>\n",
       "    <tr>\n",
       "      <th>4</th>\n",
       "      <td>44717004</td>\n",
       "      <td>166</td>\n",
       "      <td>347</td>\n",
       "      <td>uber</td>\n",
       "      <td>371</td>\n",
       "      <td>DEL005-29603</td>\n",
       "      <td>16-09-2018 12:40</td>\n",
       "    </tr>\n",
       "  </tbody>\n",
       "</table>\n",
       "</div>"
      ],
      "text/plain": [
       "         id  customer_id  location_id   channel  amount       bill_no  \\\n",
       "0  42877344           60          192      uber    1039  GGN001-24323   \n",
       "1  35625005          134          535  takeaway    1029   DEL007-1522   \n",
       "2  44397299          166          347      uber     355  DEL005-29173   \n",
       "3  44405460          166          347      uber     371  DEL005-29180   \n",
       "4  44717004          166          347      uber     371  DEL005-29603   \n",
       "\n",
       "         created_on  \n",
       "0  24-06-2018 00:00  \n",
       "1  14-01-2018 19:21  \n",
       "2  13-09-2018 13:40  \n",
       "3  13-09-2018 14:33  \n",
       "4  16-09-2018 12:40  "
      ]
     },
     "execution_count": 3,
     "metadata": {},
     "output_type": "execute_result"
    }
   ],
   "source": [
    "df= pd.read_csv(\"Data Set 2.csv\")\n",
    "df.head()"
   ]
  },
  {
   "cell_type": "code",
   "execution_count": 4,
   "id": "636d3c6d",
   "metadata": {
    "scrolled": true
   },
   "outputs": [
    {
     "name": "stdout",
     "output_type": "stream",
     "text": [
      "<class 'pandas.core.frame.DataFrame'>\n",
      "RangeIndex: 533327 entries, 0 to 533326\n",
      "Data columns (total 7 columns):\n",
      " #   Column       Non-Null Count   Dtype \n",
      "---  ------       --------------   ----- \n",
      " 0   id           533327 non-null  int64 \n",
      " 1   customer_id  533327 non-null  int64 \n",
      " 2   location_id  533327 non-null  int64 \n",
      " 3   channel      533327 non-null  object\n",
      " 4   amount       533327 non-null  int64 \n",
      " 5   bill_no      533327 non-null  object\n",
      " 6   created_on   533327 non-null  object\n",
      "dtypes: int64(4), object(3)\n",
      "memory usage: 28.5+ MB\n"
     ]
    }
   ],
   "source": [
    "df.info()"
   ]
  },
  {
   "cell_type": "code",
   "execution_count": 5,
   "id": "c4d3eb07",
   "metadata": {},
   "outputs": [
    {
     "data": {
      "text/plain": [
       "(533327, 7)"
      ]
     },
     "execution_count": 5,
     "metadata": {},
     "output_type": "execute_result"
    }
   ],
   "source": [
    "df.shape"
   ]
  },
  {
   "cell_type": "code",
   "execution_count": 6,
   "id": "3640f85e",
   "metadata": {},
   "outputs": [
    {
     "data": {
      "text/html": [
       "<div>\n",
       "<style scoped>\n",
       "    .dataframe tbody tr th:only-of-type {\n",
       "        vertical-align: middle;\n",
       "    }\n",
       "\n",
       "    .dataframe tbody tr th {\n",
       "        vertical-align: top;\n",
       "    }\n",
       "\n",
       "    .dataframe thead th {\n",
       "        text-align: right;\n",
       "    }\n",
       "</style>\n",
       "<table border=\"1\" class=\"dataframe\">\n",
       "  <thead>\n",
       "    <tr style=\"text-align: right;\">\n",
       "      <th></th>\n",
       "      <th>id</th>\n",
       "      <th>customer_id</th>\n",
       "      <th>location_id</th>\n",
       "      <th>channel</th>\n",
       "      <th>amount</th>\n",
       "      <th>bill_no</th>\n",
       "      <th>created_on</th>\n",
       "    </tr>\n",
       "  </thead>\n",
       "  <tbody>\n",
       "    <tr>\n",
       "      <th>0</th>\n",
       "      <td>42877344</td>\n",
       "      <td>60</td>\n",
       "      <td>192</td>\n",
       "      <td>uber</td>\n",
       "      <td>1039</td>\n",
       "      <td>GGN001-24323</td>\n",
       "      <td>2018-06-24 00:00:00</td>\n",
       "    </tr>\n",
       "    <tr>\n",
       "      <th>1</th>\n",
       "      <td>35625005</td>\n",
       "      <td>134</td>\n",
       "      <td>535</td>\n",
       "      <td>takeaway</td>\n",
       "      <td>1029</td>\n",
       "      <td>DEL007-1522</td>\n",
       "      <td>2018-01-14 19:21:00</td>\n",
       "    </tr>\n",
       "    <tr>\n",
       "      <th>2</th>\n",
       "      <td>44397299</td>\n",
       "      <td>166</td>\n",
       "      <td>347</td>\n",
       "      <td>uber</td>\n",
       "      <td>355</td>\n",
       "      <td>DEL005-29173</td>\n",
       "      <td>2018-09-13 13:40:00</td>\n",
       "    </tr>\n",
       "    <tr>\n",
       "      <th>3</th>\n",
       "      <td>44405460</td>\n",
       "      <td>166</td>\n",
       "      <td>347</td>\n",
       "      <td>uber</td>\n",
       "      <td>371</td>\n",
       "      <td>DEL005-29180</td>\n",
       "      <td>2018-09-13 14:33:00</td>\n",
       "    </tr>\n",
       "    <tr>\n",
       "      <th>4</th>\n",
       "      <td>44717004</td>\n",
       "      <td>166</td>\n",
       "      <td>347</td>\n",
       "      <td>uber</td>\n",
       "      <td>371</td>\n",
       "      <td>DEL005-29603</td>\n",
       "      <td>2018-09-16 12:40:00</td>\n",
       "    </tr>\n",
       "  </tbody>\n",
       "</table>\n",
       "</div>"
      ],
      "text/plain": [
       "         id  customer_id  location_id   channel  amount       bill_no  \\\n",
       "0  42877344           60          192      uber    1039  GGN001-24323   \n",
       "1  35625005          134          535  takeaway    1029   DEL007-1522   \n",
       "2  44397299          166          347      uber     355  DEL005-29173   \n",
       "3  44405460          166          347      uber     371  DEL005-29180   \n",
       "4  44717004          166          347      uber     371  DEL005-29603   \n",
       "\n",
       "           created_on  \n",
       "0 2018-06-24 00:00:00  \n",
       "1 2018-01-14 19:21:00  \n",
       "2 2018-09-13 13:40:00  \n",
       "3 2018-09-13 14:33:00  \n",
       "4 2018-09-16 12:40:00  "
      ]
     },
     "execution_count": 6,
     "metadata": {},
     "output_type": "execute_result"
    }
   ],
   "source": [
    "df[\"created_on\"] = pd.to_datetime(df[\"created_on\"])\n",
    "df.head()"
   ]
  },
  {
   "cell_type": "code",
   "execution_count": 7,
   "id": "ebe15e76",
   "metadata": {},
   "outputs": [],
   "source": [
    "df[\"year\"] = df[\"created_on\"].dt.year\n",
    "df[\"month\"] = df[\"created_on\"].dt.month\n"
   ]
  },
  {
   "cell_type": "code",
   "execution_count": 8,
   "id": "e0bdb6d2",
   "metadata": {},
   "outputs": [
    {
     "data": {
      "text/html": [
       "<div>\n",
       "<style scoped>\n",
       "    .dataframe tbody tr th:only-of-type {\n",
       "        vertical-align: middle;\n",
       "    }\n",
       "\n",
       "    .dataframe tbody tr th {\n",
       "        vertical-align: top;\n",
       "    }\n",
       "\n",
       "    .dataframe thead th {\n",
       "        text-align: right;\n",
       "    }\n",
       "</style>\n",
       "<table border=\"1\" class=\"dataframe\">\n",
       "  <thead>\n",
       "    <tr style=\"text-align: right;\">\n",
       "      <th></th>\n",
       "      <th>id</th>\n",
       "      <th>customer_id</th>\n",
       "      <th>location_id</th>\n",
       "      <th>channel</th>\n",
       "      <th>amount</th>\n",
       "      <th>bill_no</th>\n",
       "      <th>created_on</th>\n",
       "      <th>year</th>\n",
       "      <th>month</th>\n",
       "    </tr>\n",
       "  </thead>\n",
       "  <tbody>\n",
       "    <tr>\n",
       "      <th>0</th>\n",
       "      <td>42877344</td>\n",
       "      <td>60</td>\n",
       "      <td>192</td>\n",
       "      <td>uber</td>\n",
       "      <td>1039</td>\n",
       "      <td>GGN001-24323</td>\n",
       "      <td>2018-06-24 00:00:00</td>\n",
       "      <td>2018</td>\n",
       "      <td>6</td>\n",
       "    </tr>\n",
       "    <tr>\n",
       "      <th>1</th>\n",
       "      <td>35625005</td>\n",
       "      <td>134</td>\n",
       "      <td>535</td>\n",
       "      <td>takeaway</td>\n",
       "      <td>1029</td>\n",
       "      <td>DEL007-1522</td>\n",
       "      <td>2018-01-14 19:21:00</td>\n",
       "      <td>2018</td>\n",
       "      <td>1</td>\n",
       "    </tr>\n",
       "    <tr>\n",
       "      <th>2</th>\n",
       "      <td>44397299</td>\n",
       "      <td>166</td>\n",
       "      <td>347</td>\n",
       "      <td>uber</td>\n",
       "      <td>355</td>\n",
       "      <td>DEL005-29173</td>\n",
       "      <td>2018-09-13 13:40:00</td>\n",
       "      <td>2018</td>\n",
       "      <td>9</td>\n",
       "    </tr>\n",
       "    <tr>\n",
       "      <th>3</th>\n",
       "      <td>44405460</td>\n",
       "      <td>166</td>\n",
       "      <td>347</td>\n",
       "      <td>uber</td>\n",
       "      <td>371</td>\n",
       "      <td>DEL005-29180</td>\n",
       "      <td>2018-09-13 14:33:00</td>\n",
       "      <td>2018</td>\n",
       "      <td>9</td>\n",
       "    </tr>\n",
       "    <tr>\n",
       "      <th>4</th>\n",
       "      <td>44717004</td>\n",
       "      <td>166</td>\n",
       "      <td>347</td>\n",
       "      <td>uber</td>\n",
       "      <td>371</td>\n",
       "      <td>DEL005-29603</td>\n",
       "      <td>2018-09-16 12:40:00</td>\n",
       "      <td>2018</td>\n",
       "      <td>9</td>\n",
       "    </tr>\n",
       "  </tbody>\n",
       "</table>\n",
       "</div>"
      ],
      "text/plain": [
       "         id  customer_id  location_id   channel  amount       bill_no  \\\n",
       "0  42877344           60          192      uber    1039  GGN001-24323   \n",
       "1  35625005          134          535  takeaway    1029   DEL007-1522   \n",
       "2  44397299          166          347      uber     355  DEL005-29173   \n",
       "3  44405460          166          347      uber     371  DEL005-29180   \n",
       "4  44717004          166          347      uber     371  DEL005-29603   \n",
       "\n",
       "           created_on  year  month  \n",
       "0 2018-06-24 00:00:00  2018      6  \n",
       "1 2018-01-14 19:21:00  2018      1  \n",
       "2 2018-09-13 13:40:00  2018      9  \n",
       "3 2018-09-13 14:33:00  2018      9  \n",
       "4 2018-09-16 12:40:00  2018      9  "
      ]
     },
     "execution_count": 8,
     "metadata": {},
     "output_type": "execute_result"
    }
   ],
   "source": [
    "df.head()\n",
    "\n"
   ]
  },
  {
   "cell_type": "code",
   "execution_count": 9,
   "id": "455c80d4",
   "metadata": {},
   "outputs": [],
   "source": [
    "df.drop(\"created_on\",1,inplace=True)"
   ]
  },
  {
   "cell_type": "code",
   "execution_count": 10,
   "id": "f1a58afc",
   "metadata": {
    "scrolled": true
   },
   "outputs": [
    {
     "data": {
      "text/html": [
       "<div>\n",
       "<style scoped>\n",
       "    .dataframe tbody tr th:only-of-type {\n",
       "        vertical-align: middle;\n",
       "    }\n",
       "\n",
       "    .dataframe tbody tr th {\n",
       "        vertical-align: top;\n",
       "    }\n",
       "\n",
       "    .dataframe thead th {\n",
       "        text-align: right;\n",
       "    }\n",
       "</style>\n",
       "<table border=\"1\" class=\"dataframe\">\n",
       "  <thead>\n",
       "    <tr style=\"text-align: right;\">\n",
       "      <th></th>\n",
       "      <th>id</th>\n",
       "      <th>customer_id</th>\n",
       "      <th>location_id</th>\n",
       "      <th>channel</th>\n",
       "      <th>amount</th>\n",
       "      <th>bill_no</th>\n",
       "      <th>year</th>\n",
       "      <th>month</th>\n",
       "    </tr>\n",
       "  </thead>\n",
       "  <tbody>\n",
       "    <tr>\n",
       "      <th>0</th>\n",
       "      <td>42877344</td>\n",
       "      <td>60</td>\n",
       "      <td>192</td>\n",
       "      <td>uber</td>\n",
       "      <td>1039</td>\n",
       "      <td>GGN001-24323</td>\n",
       "      <td>2018</td>\n",
       "      <td>6</td>\n",
       "    </tr>\n",
       "    <tr>\n",
       "      <th>1</th>\n",
       "      <td>35625005</td>\n",
       "      <td>134</td>\n",
       "      <td>535</td>\n",
       "      <td>takeaway</td>\n",
       "      <td>1029</td>\n",
       "      <td>DEL007-1522</td>\n",
       "      <td>2018</td>\n",
       "      <td>1</td>\n",
       "    </tr>\n",
       "    <tr>\n",
       "      <th>2</th>\n",
       "      <td>44397299</td>\n",
       "      <td>166</td>\n",
       "      <td>347</td>\n",
       "      <td>uber</td>\n",
       "      <td>355</td>\n",
       "      <td>DEL005-29173</td>\n",
       "      <td>2018</td>\n",
       "      <td>9</td>\n",
       "    </tr>\n",
       "    <tr>\n",
       "      <th>3</th>\n",
       "      <td>44405460</td>\n",
       "      <td>166</td>\n",
       "      <td>347</td>\n",
       "      <td>uber</td>\n",
       "      <td>371</td>\n",
       "      <td>DEL005-29180</td>\n",
       "      <td>2018</td>\n",
       "      <td>9</td>\n",
       "    </tr>\n",
       "    <tr>\n",
       "      <th>4</th>\n",
       "      <td>44717004</td>\n",
       "      <td>166</td>\n",
       "      <td>347</td>\n",
       "      <td>uber</td>\n",
       "      <td>371</td>\n",
       "      <td>DEL005-29603</td>\n",
       "      <td>2018</td>\n",
       "      <td>9</td>\n",
       "    </tr>\n",
       "  </tbody>\n",
       "</table>\n",
       "</div>"
      ],
      "text/plain": [
       "         id  customer_id  location_id   channel  amount       bill_no  year  \\\n",
       "0  42877344           60          192      uber    1039  GGN001-24323  2018   \n",
       "1  35625005          134          535  takeaway    1029   DEL007-1522  2018   \n",
       "2  44397299          166          347      uber     355  DEL005-29173  2018   \n",
       "3  44405460          166          347      uber     371  DEL005-29180  2018   \n",
       "4  44717004          166          347      uber     371  DEL005-29603  2018   \n",
       "\n",
       "   month  \n",
       "0      6  \n",
       "1      1  \n",
       "2      9  \n",
       "3      9  \n",
       "4      9  "
      ]
     },
     "execution_count": 10,
     "metadata": {},
     "output_type": "execute_result"
    }
   ],
   "source": [
    "df.head()"
   ]
  },
  {
   "cell_type": "code",
   "execution_count": 11,
   "id": "2a199096",
   "metadata": {},
   "outputs": [
    {
     "data": {
      "text/plain": [
       "2018    383076\n",
       "2019    150251\n",
       "Name: year, dtype: int64"
      ]
     },
     "execution_count": 11,
     "metadata": {},
     "output_type": "execute_result"
    }
   ],
   "source": [
    "df[\"year\"].value_counts()"
   ]
  },
  {
   "cell_type": "code",
   "execution_count": 12,
   "id": "3098d354",
   "metadata": {},
   "outputs": [
    {
     "data": {
      "text/plain": [
       "3     71603\n",
       "2     58183\n",
       "1     54457\n",
       "11    47533\n",
       "9     43257\n",
       "10    42097\n",
       "12    39074\n",
       "7     38930\n",
       "6     37788\n",
       "8     34308\n",
       "5     34068\n",
       "4     32029\n",
       "Name: month, dtype: int64"
      ]
     },
     "execution_count": 12,
     "metadata": {},
     "output_type": "execute_result"
    }
   ],
   "source": [
    "df[\"month\"].value_counts()"
   ]
  },
  {
   "cell_type": "markdown",
   "id": "e55d6508",
   "metadata": {},
   "source": [
    "# 1.Sheet name : Overall."
   ]
  },
  {
   "cell_type": "markdown",
   "id": "fbbbfa1e",
   "metadata": {},
   "source": [
    "#### Revenue every month"
   ]
  },
  {
   "cell_type": "code",
   "execution_count": 13,
   "id": "4e400074",
   "metadata": {
    "scrolled": true
   },
   "outputs": [
    {
     "data": {
      "text/plain": [
       "month\n",
       "1     31684629\n",
       "2     30929668\n",
       "3     35029989\n",
       "4     17950133\n",
       "5     19198618\n",
       "6     21381004\n",
       "7     22101857\n",
       "8     19479356\n",
       "9     21234378\n",
       "10    24061725\n",
       "11    27409901\n",
       "12    23615178\n",
       "Name: amount, dtype: int64"
      ]
     },
     "execution_count": 13,
     "metadata": {},
     "output_type": "execute_result"
    }
   ],
   "source": [
    "Revenue = df.groupby(by=\"month\").sum()[\"amount\"]\n",
    "Revenue "
   ]
  },
  {
   "cell_type": "markdown",
   "id": "3ca6188f",
   "metadata": {},
   "source": [
    "#### fetching the values and reshaping it for the final output dataframe"
   ]
  },
  {
   "cell_type": "code",
   "execution_count": 14,
   "id": "c4fa99cd",
   "metadata": {},
   "outputs": [
    {
     "data": {
      "text/plain": [
       "array([[31684629, 30929668, 35029989, 17950133, 19198618, 21381004,\n",
       "        22101857, 19479356, 21234378, 24061725, 27409901, 23615178]],\n",
       "      dtype=int64)"
      ]
     },
     "execution_count": 14,
     "metadata": {},
     "output_type": "execute_result"
    }
   ],
   "source": [
    "Revenue = Revenue.values.reshape((1,12))\n",
    "Revenue"
   ]
  },
  {
   "cell_type": "markdown",
   "id": "f560fcb0",
   "metadata": {},
   "source": [
    "#### order every month"
   ]
  },
  {
   "cell_type": "code",
   "execution_count": 15,
   "id": "e38ff51d",
   "metadata": {
    "scrolled": true
   },
   "outputs": [
    {
     "data": {
      "text/plain": [
       "month\n",
       "1     54457\n",
       "2     58183\n",
       "3     71603\n",
       "4     32029\n",
       "5     34068\n",
       "6     37788\n",
       "7     38930\n",
       "8     34308\n",
       "9     43257\n",
       "10    42097\n",
       "11    47533\n",
       "12    39074\n",
       "Name: id, dtype: int64"
      ]
     },
     "execution_count": 15,
     "metadata": {},
     "output_type": "execute_result"
    }
   ],
   "source": [
    "Orders = df.groupby(by=\"month\").count()[\"id\"]\n",
    "Orders"
   ]
  },
  {
   "cell_type": "code",
   "execution_count": 16,
   "id": "a45c6dc4",
   "metadata": {},
   "outputs": [
    {
     "data": {
      "text/plain": [
       "array([[54457, 58183, 71603, 32029, 34068, 37788, 38930, 34308, 43257,\n",
       "        42097, 47533, 39074]], dtype=int64)"
      ]
     },
     "execution_count": 16,
     "metadata": {},
     "output_type": "execute_result"
    }
   ],
   "source": [
    "Orders = Orders.values.reshape((1,12))\n",
    "Orders"
   ]
  },
  {
   "cell_type": "markdown",
   "id": "e4a15f79",
   "metadata": {},
   "source": [
    "#### Unique customer every month"
   ]
  },
  {
   "cell_type": "code",
   "execution_count": 17,
   "id": "39d4da32",
   "metadata": {
    "scrolled": true
   },
   "outputs": [
    {
     "data": {
      "text/plain": [
       "month\n",
       "1     40623\n",
       "2     44205\n",
       "3     52429\n",
       "4     24692\n",
       "5     26332\n",
       "6     29466\n",
       "7     30525\n",
       "8     27352\n",
       "9     33120\n",
       "10    32179\n",
       "11    35788\n",
       "12    30315\n",
       "Name: customer_id, dtype: int64"
      ]
     },
     "execution_count": 17,
     "metadata": {},
     "output_type": "execute_result"
    }
   ],
   "source": [
    "Customers =  df.groupby([\"month\"]).nunique()[\"customer_id\"]\n",
    "Customers"
   ]
  },
  {
   "cell_type": "code",
   "execution_count": 18,
   "id": "bd25d2e7",
   "metadata": {},
   "outputs": [
    {
     "data": {
      "text/plain": [
       "array([[40623, 44205, 52429, 24692, 26332, 29466, 30525, 27352, 33120,\n",
       "        32179, 35788, 30315]], dtype=int64)"
      ]
     },
     "execution_count": 18,
     "metadata": {},
     "output_type": "execute_result"
    }
   ],
   "source": [
    "Customers = Customers.values.reshape((1,12))\n",
    "Customers"
   ]
  },
  {
   "cell_type": "markdown",
   "id": "5c00f09c",
   "metadata": {},
   "source": [
    "### New Customer every month"
   ]
  },
  {
   "cell_type": "code",
   "execution_count": 19,
   "id": "94e6012b",
   "metadata": {},
   "outputs": [],
   "source": [
    "# if the customer_id is again shaowing with different product_id then the customer will be an old customer\n",
    "# bascially if the customer_id count is one then it should be an new cutomers"
   ]
  },
  {
   "cell_type": "code",
   "execution_count": 20,
   "id": "352fec91",
   "metadata": {},
   "outputs": [],
   "source": [
    "df[\"new_customer\"] =df[\"customer_id\"].apply(lambda x:1 if x not in df[\"customer_id\"] else 0)"
   ]
  },
  {
   "cell_type": "code",
   "execution_count": 21,
   "id": "1b8080bc",
   "metadata": {},
   "outputs": [
    {
     "data": {
      "text/html": [
       "<div>\n",
       "<style scoped>\n",
       "    .dataframe tbody tr th:only-of-type {\n",
       "        vertical-align: middle;\n",
       "    }\n",
       "\n",
       "    .dataframe tbody tr th {\n",
       "        vertical-align: top;\n",
       "    }\n",
       "\n",
       "    .dataframe thead th {\n",
       "        text-align: right;\n",
       "    }\n",
       "</style>\n",
       "<table border=\"1\" class=\"dataframe\">\n",
       "  <thead>\n",
       "    <tr style=\"text-align: right;\">\n",
       "      <th></th>\n",
       "      <th>id</th>\n",
       "      <th>customer_id</th>\n",
       "      <th>location_id</th>\n",
       "      <th>channel</th>\n",
       "      <th>amount</th>\n",
       "      <th>bill_no</th>\n",
       "      <th>year</th>\n",
       "      <th>month</th>\n",
       "      <th>new_customer</th>\n",
       "    </tr>\n",
       "  </thead>\n",
       "  <tbody>\n",
       "    <tr>\n",
       "      <th>0</th>\n",
       "      <td>42877344</td>\n",
       "      <td>60</td>\n",
       "      <td>192</td>\n",
       "      <td>uber</td>\n",
       "      <td>1039</td>\n",
       "      <td>GGN001-24323</td>\n",
       "      <td>2018</td>\n",
       "      <td>6</td>\n",
       "      <td>0</td>\n",
       "    </tr>\n",
       "    <tr>\n",
       "      <th>1</th>\n",
       "      <td>35625005</td>\n",
       "      <td>134</td>\n",
       "      <td>535</td>\n",
       "      <td>takeaway</td>\n",
       "      <td>1029</td>\n",
       "      <td>DEL007-1522</td>\n",
       "      <td>2018</td>\n",
       "      <td>1</td>\n",
       "      <td>0</td>\n",
       "    </tr>\n",
       "    <tr>\n",
       "      <th>2</th>\n",
       "      <td>44397299</td>\n",
       "      <td>166</td>\n",
       "      <td>347</td>\n",
       "      <td>uber</td>\n",
       "      <td>355</td>\n",
       "      <td>DEL005-29173</td>\n",
       "      <td>2018</td>\n",
       "      <td>9</td>\n",
       "      <td>0</td>\n",
       "    </tr>\n",
       "    <tr>\n",
       "      <th>3</th>\n",
       "      <td>44405460</td>\n",
       "      <td>166</td>\n",
       "      <td>347</td>\n",
       "      <td>uber</td>\n",
       "      <td>371</td>\n",
       "      <td>DEL005-29180</td>\n",
       "      <td>2018</td>\n",
       "      <td>9</td>\n",
       "      <td>0</td>\n",
       "    </tr>\n",
       "    <tr>\n",
       "      <th>4</th>\n",
       "      <td>44717004</td>\n",
       "      <td>166</td>\n",
       "      <td>347</td>\n",
       "      <td>uber</td>\n",
       "      <td>371</td>\n",
       "      <td>DEL005-29603</td>\n",
       "      <td>2018</td>\n",
       "      <td>9</td>\n",
       "      <td>0</td>\n",
       "    </tr>\n",
       "    <tr>\n",
       "      <th>5</th>\n",
       "      <td>58101623</td>\n",
       "      <td>166</td>\n",
       "      <td>347</td>\n",
       "      <td>uber</td>\n",
       "      <td>252</td>\n",
       "      <td>DEL005-50335</td>\n",
       "      <td>2019</td>\n",
       "      <td>2</td>\n",
       "      <td>0</td>\n",
       "    </tr>\n",
       "    <tr>\n",
       "      <th>6</th>\n",
       "      <td>58550796</td>\n",
       "      <td>166</td>\n",
       "      <td>347</td>\n",
       "      <td>uber</td>\n",
       "      <td>252</td>\n",
       "      <td>DEL005-51476</td>\n",
       "      <td>2019</td>\n",
       "      <td>2</td>\n",
       "      <td>0</td>\n",
       "    </tr>\n",
       "    <tr>\n",
       "      <th>7</th>\n",
       "      <td>36018577</td>\n",
       "      <td>180</td>\n",
       "      <td>4593</td>\n",
       "      <td>takeaway</td>\n",
       "      <td>60</td>\n",
       "      <td>GGN007-1266</td>\n",
       "      <td>2018</td>\n",
       "      <td>1</td>\n",
       "      <td>0</td>\n",
       "    </tr>\n",
       "    <tr>\n",
       "      <th>8</th>\n",
       "      <td>38731245</td>\n",
       "      <td>180</td>\n",
       "      <td>270</td>\n",
       "      <td>takeaway</td>\n",
       "      <td>372</td>\n",
       "      <td>DEL001-15243</td>\n",
       "      <td>2018</td>\n",
       "      <td>12</td>\n",
       "      <td>0</td>\n",
       "    </tr>\n",
       "    <tr>\n",
       "      <th>9</th>\n",
       "      <td>43252192</td>\n",
       "      <td>180</td>\n",
       "      <td>192</td>\n",
       "      <td>takeaway</td>\n",
       "      <td>450</td>\n",
       "      <td>GGN001-30768</td>\n",
       "      <td>2018</td>\n",
       "      <td>4</td>\n",
       "      <td>0</td>\n",
       "    </tr>\n",
       "  </tbody>\n",
       "</table>\n",
       "</div>"
      ],
      "text/plain": [
       "         id  customer_id  location_id   channel  amount       bill_no  year  \\\n",
       "0  42877344           60          192      uber    1039  GGN001-24323  2018   \n",
       "1  35625005          134          535  takeaway    1029   DEL007-1522  2018   \n",
       "2  44397299          166          347      uber     355  DEL005-29173  2018   \n",
       "3  44405460          166          347      uber     371  DEL005-29180  2018   \n",
       "4  44717004          166          347      uber     371  DEL005-29603  2018   \n",
       "5  58101623          166          347      uber     252  DEL005-50335  2019   \n",
       "6  58550796          166          347      uber     252  DEL005-51476  2019   \n",
       "7  36018577          180         4593  takeaway      60   GGN007-1266  2018   \n",
       "8  38731245          180          270  takeaway     372  DEL001-15243  2018   \n",
       "9  43252192          180          192  takeaway     450  GGN001-30768  2018   \n",
       "\n",
       "   month  new_customer  \n",
       "0      6             0  \n",
       "1      1             0  \n",
       "2      9             0  \n",
       "3      9             0  \n",
       "4      9             0  \n",
       "5      2             0  \n",
       "6      2             0  \n",
       "7      1             0  \n",
       "8     12             0  \n",
       "9      4             0  "
      ]
     },
     "execution_count": 21,
     "metadata": {},
     "output_type": "execute_result"
    }
   ],
   "source": [
    "df.head(10)"
   ]
  },
  {
   "cell_type": "code",
   "execution_count": 22,
   "id": "37eb9c4e",
   "metadata": {
    "scrolled": true
   },
   "outputs": [
    {
     "data": {
      "text/plain": [
       "month\n",
       "1     43442\n",
       "2     47470\n",
       "3     59760\n",
       "4     25029\n",
       "5     27018\n",
       "6     30346\n",
       "7     31837\n",
       "8     27692\n",
       "9     36195\n",
       "10    35968\n",
       "11    40729\n",
       "12    32404\n",
       "Name: new_customer, dtype: int64"
      ]
     },
     "execution_count": 22,
     "metadata": {},
     "output_type": "execute_result"
    }
   ],
   "source": [
    "New_customers = df.groupby([\"month\"]).sum()[\"new_customer\"]\n",
    "New_customers"
   ]
  },
  {
   "cell_type": "code",
   "execution_count": 23,
   "id": "5026d660",
   "metadata": {},
   "outputs": [
    {
     "data": {
      "text/plain": [
       "array([[43442, 47470, 59760, 25029, 27018, 30346, 31837, 27692, 36195,\n",
       "        35968, 40729, 32404]], dtype=int64)"
      ]
     },
     "execution_count": 23,
     "metadata": {},
     "output_type": "execute_result"
    }
   ],
   "source": [
    "New_customers = New_customers.values.reshape((1,12))\n",
    "New_customers"
   ]
  },
  {
   "cell_type": "markdown",
   "id": "a06648bd",
   "metadata": {},
   "source": [
    "### Repeated customers"
   ]
  },
  {
   "cell_type": "markdown",
   "id": "4487257c",
   "metadata": {},
   "source": [
    "***Customers with order more than one are repeated customers***"
   ]
  },
  {
   "cell_type": "code",
   "execution_count": 24,
   "id": "7007bfcf",
   "metadata": {},
   "outputs": [],
   "source": [
    "df[\"repeated_customer\"] =df[\"customer_id\"].apply(lambda x:1 if x in df[\"customer_id\"] else 0)"
   ]
  },
  {
   "cell_type": "code",
   "execution_count": 25,
   "id": "305f9352",
   "metadata": {},
   "outputs": [
    {
     "data": {
      "text/plain": [
       "month\n",
       "1     11015\n",
       "2     10713\n",
       "3     11843\n",
       "4      7000\n",
       "5      7050\n",
       "6      7442\n",
       "7      7093\n",
       "8      6616\n",
       "9      7062\n",
       "10     6129\n",
       "11     6804\n",
       "12     6670\n",
       "Name: repeated_customer, dtype: int64"
      ]
     },
     "execution_count": 25,
     "metadata": {},
     "output_type": "execute_result"
    }
   ],
   "source": [
    "Repeated_customers = df.groupby([\"month\"]).sum()[\"repeated_customer\"]\n",
    "Repeated_customers"
   ]
  },
  {
   "cell_type": "code",
   "execution_count": 26,
   "id": "5327a798",
   "metadata": {},
   "outputs": [
    {
     "data": {
      "text/plain": [
       "array([[11015, 10713, 11843,  7000,  7050,  7442,  7093,  6616,  7062,\n",
       "         6129,  6804,  6670]], dtype=int64)"
      ]
     },
     "execution_count": 26,
     "metadata": {},
     "output_type": "execute_result"
    }
   ],
   "source": [
    "Repeated_customers = Repeated_customers.values.reshape((1,12))\n",
    "Repeated_customers"
   ]
  },
  {
   "cell_type": "markdown",
   "id": "a811c86b",
   "metadata": {},
   "source": [
    "### Frequency"
   ]
  },
  {
   "cell_type": "code",
   "execution_count": 27,
   "id": "498f2153",
   "metadata": {
    "scrolled": true
   },
   "outputs": [],
   "source": [
    "frequency0 = Orders/Customers\n",
    "frequency0 = frequency0.reshape((-1)) # data was was not in one dimensional that's why i did this"
   ]
  },
  {
   "cell_type": "code",
   "execution_count": 28,
   "id": "66dfe342",
   "metadata": {},
   "outputs": [],
   "source": [
    "frequency0 = pd.Series(frequency0)  # for taking the values of the data first convert it into the series"
   ]
  },
  {
   "cell_type": "code",
   "execution_count": 29,
   "id": "3991d506",
   "metadata": {},
   "outputs": [
    {
     "data": {
      "text/plain": [
       "array([[1.340546  , 1.31620857, 1.36571363, 1.29714077, 1.29378703,\n",
       "        1.2824272 , 1.27534808, 1.25431413, 1.30606884, 1.30821343,\n",
       "        1.32818263, 1.28893287]])"
      ]
     },
     "execution_count": 29,
     "metadata": {},
     "output_type": "execute_result"
    }
   ],
   "source": [
    "# reshaping it for the final dataframe\n",
    "frequency0 = frequency0.values.reshape((1,12))\n",
    "frequency0"
   ]
  },
  {
   "cell_type": "markdown",
   "id": "706d1dd5",
   "metadata": {},
   "source": [
    "# Final Dataframe"
   ]
  },
  {
   "cell_type": "code",
   "execution_count": 30,
   "id": "90fbe92a",
   "metadata": {},
   "outputs": [],
   "source": [
    "Overall= pd.DataFrame(columns=[\"month1\",\"month2\",\"month3\",\"month4\",\"month5\",\"month6\",\"month7\",\"month8\",\"month9\",\"month10\",\"month11\",\"month12\"],\n",
    "                      index=[\"Revenue\",\"Orders\",\"Customers\",\"New Customers\",\"Repeated Customers\",\"Frequnency\"])\n",
    "\n",
    "Overall.iloc[0:1,:] = Revenue\n",
    "Overall.iloc[1:2,:] = Orders\n",
    "Overall.iloc[2:3,:] = Customers\n",
    "Overall.iloc[3:4,:] = New_customers\n",
    "Overall.iloc[4:5,:] = Repeated_customers\n",
    "Overall.iloc[5:6,:] = frequency0"
   ]
  },
  {
   "cell_type": "code",
   "execution_count": 31,
   "id": "588ad72a",
   "metadata": {},
   "outputs": [
    {
     "data": {
      "text/html": [
       "<div>\n",
       "<style scoped>\n",
       "    .dataframe tbody tr th:only-of-type {\n",
       "        vertical-align: middle;\n",
       "    }\n",
       "\n",
       "    .dataframe tbody tr th {\n",
       "        vertical-align: top;\n",
       "    }\n",
       "\n",
       "    .dataframe thead th {\n",
       "        text-align: right;\n",
       "    }\n",
       "</style>\n",
       "<table border=\"1\" class=\"dataframe\">\n",
       "  <thead>\n",
       "    <tr style=\"text-align: right;\">\n",
       "      <th></th>\n",
       "      <th>month1</th>\n",
       "      <th>month2</th>\n",
       "      <th>month3</th>\n",
       "      <th>month4</th>\n",
       "      <th>month5</th>\n",
       "      <th>month6</th>\n",
       "      <th>month7</th>\n",
       "      <th>month8</th>\n",
       "      <th>month9</th>\n",
       "      <th>month10</th>\n",
       "      <th>month11</th>\n",
       "      <th>month12</th>\n",
       "    </tr>\n",
       "  </thead>\n",
       "  <tbody>\n",
       "    <tr>\n",
       "      <th>Revenue</th>\n",
       "      <td>31684629</td>\n",
       "      <td>30929668</td>\n",
       "      <td>35029989</td>\n",
       "      <td>17950133</td>\n",
       "      <td>19198618</td>\n",
       "      <td>21381004</td>\n",
       "      <td>22101857</td>\n",
       "      <td>19479356</td>\n",
       "      <td>21234378</td>\n",
       "      <td>24061725</td>\n",
       "      <td>27409901</td>\n",
       "      <td>23615178</td>\n",
       "    </tr>\n",
       "    <tr>\n",
       "      <th>Orders</th>\n",
       "      <td>54457</td>\n",
       "      <td>58183</td>\n",
       "      <td>71603</td>\n",
       "      <td>32029</td>\n",
       "      <td>34068</td>\n",
       "      <td>37788</td>\n",
       "      <td>38930</td>\n",
       "      <td>34308</td>\n",
       "      <td>43257</td>\n",
       "      <td>42097</td>\n",
       "      <td>47533</td>\n",
       "      <td>39074</td>\n",
       "    </tr>\n",
       "    <tr>\n",
       "      <th>Customers</th>\n",
       "      <td>40623</td>\n",
       "      <td>44205</td>\n",
       "      <td>52429</td>\n",
       "      <td>24692</td>\n",
       "      <td>26332</td>\n",
       "      <td>29466</td>\n",
       "      <td>30525</td>\n",
       "      <td>27352</td>\n",
       "      <td>33120</td>\n",
       "      <td>32179</td>\n",
       "      <td>35788</td>\n",
       "      <td>30315</td>\n",
       "    </tr>\n",
       "    <tr>\n",
       "      <th>New Customers</th>\n",
       "      <td>43442</td>\n",
       "      <td>47470</td>\n",
       "      <td>59760</td>\n",
       "      <td>25029</td>\n",
       "      <td>27018</td>\n",
       "      <td>30346</td>\n",
       "      <td>31837</td>\n",
       "      <td>27692</td>\n",
       "      <td>36195</td>\n",
       "      <td>35968</td>\n",
       "      <td>40729</td>\n",
       "      <td>32404</td>\n",
       "    </tr>\n",
       "    <tr>\n",
       "      <th>Repeated Customers</th>\n",
       "      <td>11015</td>\n",
       "      <td>10713</td>\n",
       "      <td>11843</td>\n",
       "      <td>7000</td>\n",
       "      <td>7050</td>\n",
       "      <td>7442</td>\n",
       "      <td>7093</td>\n",
       "      <td>6616</td>\n",
       "      <td>7062</td>\n",
       "      <td>6129</td>\n",
       "      <td>6804</td>\n",
       "      <td>6670</td>\n",
       "    </tr>\n",
       "    <tr>\n",
       "      <th>Frequnency</th>\n",
       "      <td>1.340546</td>\n",
       "      <td>1.316209</td>\n",
       "      <td>1.365714</td>\n",
       "      <td>1.297141</td>\n",
       "      <td>1.293787</td>\n",
       "      <td>1.282427</td>\n",
       "      <td>1.275348</td>\n",
       "      <td>1.254314</td>\n",
       "      <td>1.306069</td>\n",
       "      <td>1.308213</td>\n",
       "      <td>1.328183</td>\n",
       "      <td>1.288933</td>\n",
       "    </tr>\n",
       "  </tbody>\n",
       "</table>\n",
       "</div>"
      ],
      "text/plain": [
       "                      month1    month2    month3    month4    month5  \\\n",
       "Revenue             31684629  30929668  35029989  17950133  19198618   \n",
       "Orders                 54457     58183     71603     32029     34068   \n",
       "Customers              40623     44205     52429     24692     26332   \n",
       "New Customers          43442     47470     59760     25029     27018   \n",
       "Repeated Customers     11015     10713     11843      7000      7050   \n",
       "Frequnency          1.340546  1.316209  1.365714  1.297141  1.293787   \n",
       "\n",
       "                      month6    month7    month8    month9   month10  \\\n",
       "Revenue             21381004  22101857  19479356  21234378  24061725   \n",
       "Orders                 37788     38930     34308     43257     42097   \n",
       "Customers              29466     30525     27352     33120     32179   \n",
       "New Customers          30346     31837     27692     36195     35968   \n",
       "Repeated Customers      7442      7093      6616      7062      6129   \n",
       "Frequnency          1.282427  1.275348  1.254314  1.306069  1.308213   \n",
       "\n",
       "                     month11   month12  \n",
       "Revenue             27409901  23615178  \n",
       "Orders                 47533     39074  \n",
       "Customers              35788     30315  \n",
       "New Customers          40729     32404  \n",
       "Repeated Customers      6804      6670  \n",
       "Frequnency          1.328183  1.288933  "
      ]
     },
     "execution_count": 31,
     "metadata": {},
     "output_type": "execute_result"
    }
   ],
   "source": [
    "Overall"
   ]
  },
  {
   "cell_type": "markdown",
   "id": "dc1ecbb8",
   "metadata": {},
   "source": [
    "# 2.Sheet Two : Location one"
   ]
  },
  {
   "cell_type": "markdown",
   "id": "b209b4a3",
   "metadata": {},
   "source": [
    "# <font color=\"Red\"> <i>LOCATION WISE  ->  Location one</i></font>"
   ]
  },
  {
   "cell_type": "markdown",
   "id": "4a0b8050",
   "metadata": {},
   "source": [
    "## Taking one location one"
   ]
  },
  {
   "cell_type": "code",
   "execution_count": 32,
   "id": "67aecadc",
   "metadata": {},
   "outputs": [
    {
     "data": {
      "text/plain": [
       "192"
      ]
     },
     "execution_count": 32,
     "metadata": {},
     "output_type": "execute_result"
    }
   ],
   "source": [
    "location_one = df[\"location_id\"][0]\n",
    "location_one"
   ]
  },
  {
   "cell_type": "code",
   "execution_count": 33,
   "id": "4d57436c",
   "metadata": {
    "scrolled": false
   },
   "outputs": [
    {
     "data": {
      "text/html": [
       "<div>\n",
       "<style scoped>\n",
       "    .dataframe tbody tr th:only-of-type {\n",
       "        vertical-align: middle;\n",
       "    }\n",
       "\n",
       "    .dataframe tbody tr th {\n",
       "        vertical-align: top;\n",
       "    }\n",
       "\n",
       "    .dataframe thead th {\n",
       "        text-align: right;\n",
       "    }\n",
       "</style>\n",
       "<table border=\"1\" class=\"dataframe\">\n",
       "  <thead>\n",
       "    <tr style=\"text-align: right;\">\n",
       "      <th></th>\n",
       "      <th>id</th>\n",
       "      <th>customer_id</th>\n",
       "      <th>location_id</th>\n",
       "      <th>channel</th>\n",
       "      <th>amount</th>\n",
       "      <th>bill_no</th>\n",
       "      <th>year</th>\n",
       "      <th>month</th>\n",
       "      <th>new_customer</th>\n",
       "      <th>repeated_customer</th>\n",
       "    </tr>\n",
       "  </thead>\n",
       "  <tbody>\n",
       "    <tr>\n",
       "      <th>0</th>\n",
       "      <td>42877344</td>\n",
       "      <td>60</td>\n",
       "      <td>192</td>\n",
       "      <td>uber</td>\n",
       "      <td>1039</td>\n",
       "      <td>GGN001-24323</td>\n",
       "      <td>2018</td>\n",
       "      <td>6</td>\n",
       "      <td>0</td>\n",
       "      <td>1</td>\n",
       "    </tr>\n",
       "    <tr>\n",
       "      <th>9</th>\n",
       "      <td>43252192</td>\n",
       "      <td>180</td>\n",
       "      <td>192</td>\n",
       "      <td>takeaway</td>\n",
       "      <td>450</td>\n",
       "      <td>GGN001-30768</td>\n",
       "      <td>2018</td>\n",
       "      <td>4</td>\n",
       "      <td>0</td>\n",
       "      <td>1</td>\n",
       "    </tr>\n",
       "    <tr>\n",
       "      <th>10</th>\n",
       "      <td>50301882</td>\n",
       "      <td>180</td>\n",
       "      <td>192</td>\n",
       "      <td>call</td>\n",
       "      <td>498</td>\n",
       "      <td>GGN001-45567</td>\n",
       "      <td>2018</td>\n",
       "      <td>10</td>\n",
       "      <td>0</td>\n",
       "      <td>1</td>\n",
       "    </tr>\n",
       "    <tr>\n",
       "      <th>20</th>\n",
       "      <td>46912884</td>\n",
       "      <td>734</td>\n",
       "      <td>192</td>\n",
       "      <td>zomato</td>\n",
       "      <td>1032</td>\n",
       "      <td>GGN001-49633</td>\n",
       "      <td>2018</td>\n",
       "      <td>6</td>\n",
       "      <td>0</td>\n",
       "      <td>1</td>\n",
       "    </tr>\n",
       "    <tr>\n",
       "      <th>21</th>\n",
       "      <td>38629641</td>\n",
       "      <td>790</td>\n",
       "      <td>192</td>\n",
       "      <td>takeaway</td>\n",
       "      <td>1365</td>\n",
       "      <td>GGN001-6908</td>\n",
       "      <td>2018</td>\n",
       "      <td>2</td>\n",
       "      <td>0</td>\n",
       "      <td>1</td>\n",
       "    </tr>\n",
       "    <tr>\n",
       "      <th>...</th>\n",
       "      <td>...</td>\n",
       "      <td>...</td>\n",
       "      <td>...</td>\n",
       "      <td>...</td>\n",
       "      <td>...</td>\n",
       "      <td>...</td>\n",
       "      <td>...</td>\n",
       "      <td>...</td>\n",
       "      <td>...</td>\n",
       "      <td>...</td>\n",
       "    </tr>\n",
       "    <tr>\n",
       "      <th>533288</th>\n",
       "      <td>63920261</td>\n",
       "      <td>11655151</td>\n",
       "      <td>192</td>\n",
       "      <td>zomato</td>\n",
       "      <td>99</td>\n",
       "      <td>GGN001-88287</td>\n",
       "      <td>2019</td>\n",
       "      <td>10</td>\n",
       "      <td>1</td>\n",
       "      <td>0</td>\n",
       "    </tr>\n",
       "    <tr>\n",
       "      <th>533298</th>\n",
       "      <td>63920324</td>\n",
       "      <td>11655161</td>\n",
       "      <td>192</td>\n",
       "      <td>zomato</td>\n",
       "      <td>209</td>\n",
       "      <td>GGN001-88145</td>\n",
       "      <td>2019</td>\n",
       "      <td>10</td>\n",
       "      <td>1</td>\n",
       "      <td>0</td>\n",
       "    </tr>\n",
       "    <tr>\n",
       "      <th>533303</th>\n",
       "      <td>63920393</td>\n",
       "      <td>11655165</td>\n",
       "      <td>192</td>\n",
       "      <td>zomato</td>\n",
       "      <td>129</td>\n",
       "      <td>GGN001-88151</td>\n",
       "      <td>2019</td>\n",
       "      <td>10</td>\n",
       "      <td>1</td>\n",
       "      <td>0</td>\n",
       "    </tr>\n",
       "    <tr>\n",
       "      <th>533308</th>\n",
       "      <td>63920449</td>\n",
       "      <td>11655170</td>\n",
       "      <td>192</td>\n",
       "      <td>uber</td>\n",
       "      <td>305</td>\n",
       "      <td>GGN001-88239</td>\n",
       "      <td>2019</td>\n",
       "      <td>10</td>\n",
       "      <td>1</td>\n",
       "      <td>0</td>\n",
       "    </tr>\n",
       "    <tr>\n",
       "      <th>533325</th>\n",
       "      <td>63920586</td>\n",
       "      <td>11655187</td>\n",
       "      <td>192</td>\n",
       "      <td>uber</td>\n",
       "      <td>252</td>\n",
       "      <td>GGN001-88302</td>\n",
       "      <td>2019</td>\n",
       "      <td>10</td>\n",
       "      <td>1</td>\n",
       "      <td>0</td>\n",
       "    </tr>\n",
       "  </tbody>\n",
       "</table>\n",
       "<p>58181 rows × 10 columns</p>\n",
       "</div>"
      ],
      "text/plain": [
       "              id  customer_id  location_id   channel  amount       bill_no  \\\n",
       "0       42877344           60          192      uber    1039  GGN001-24323   \n",
       "9       43252192          180          192  takeaway     450  GGN001-30768   \n",
       "10      50301882          180          192      call     498  GGN001-45567   \n",
       "20      46912884          734          192    zomato    1032  GGN001-49633   \n",
       "21      38629641          790          192  takeaway    1365   GGN001-6908   \n",
       "...          ...          ...          ...       ...     ...           ...   \n",
       "533288  63920261     11655151          192    zomato      99  GGN001-88287   \n",
       "533298  63920324     11655161          192    zomato     209  GGN001-88145   \n",
       "533303  63920393     11655165          192    zomato     129  GGN001-88151   \n",
       "533308  63920449     11655170          192      uber     305  GGN001-88239   \n",
       "533325  63920586     11655187          192      uber     252  GGN001-88302   \n",
       "\n",
       "        year  month  new_customer  repeated_customer  \n",
       "0       2018      6             0                  1  \n",
       "9       2018      4             0                  1  \n",
       "10      2018     10             0                  1  \n",
       "20      2018      6             0                  1  \n",
       "21      2018      2             0                  1  \n",
       "...      ...    ...           ...                ...  \n",
       "533288  2019     10             1                  0  \n",
       "533298  2019     10             1                  0  \n",
       "533303  2019     10             1                  0  \n",
       "533308  2019     10             1                  0  \n",
       "533325  2019     10             1                  0  \n",
       "\n",
       "[58181 rows x 10 columns]"
      ]
     },
     "execution_count": 33,
     "metadata": {},
     "output_type": "execute_result"
    }
   ],
   "source": [
    "location_one_data = df[df[\"location_id\"]==location_one]\n",
    "location_one_data"
   ]
  },
  {
   "cell_type": "markdown",
   "id": "a475815f",
   "metadata": {},
   "source": [
    "### Revenue for location one"
   ]
  },
  {
   "cell_type": "code",
   "execution_count": 34,
   "id": "70349284",
   "metadata": {},
   "outputs": [
    {
     "data": {
      "text/plain": [
       "month\n",
       "1     2853294\n",
       "2     3096092\n",
       "3     3407309\n",
       "4     1818778\n",
       "5     1976465\n",
       "6     2127114\n",
       "7     2400093\n",
       "8     2109800\n",
       "9     2379890\n",
       "10    2804921\n",
       "11    3214703\n",
       "12    2141932\n",
       "Name: amount, dtype: int64"
      ]
     },
     "execution_count": 34,
     "metadata": {},
     "output_type": "execute_result"
    }
   ],
   "source": [
    "Revenue1=location_one_data.groupby(\"month\").sum()[\"amount\"]\n",
    "Revenue1"
   ]
  },
  {
   "cell_type": "markdown",
   "id": "bb78427e",
   "metadata": {},
   "source": [
    "Reshaping for the final dataset"
   ]
  },
  {
   "cell_type": "code",
   "execution_count": 35,
   "id": "7e980f5c",
   "metadata": {
    "scrolled": true
   },
   "outputs": [
    {
     "data": {
      "text/plain": [
       "array([[2853294, 3096092, 3407309, 1818778, 1976465, 2127114, 2400093,\n",
       "        2109800, 2379890, 2804921, 3214703, 2141932]], dtype=int64)"
      ]
     },
     "execution_count": 35,
     "metadata": {},
     "output_type": "execute_result"
    }
   ],
   "source": [
    "Revenue1 = Revenue1.values.reshape((1,12))\n",
    "Revenue1"
   ]
  },
  {
   "cell_type": "markdown",
   "id": "c41cd848",
   "metadata": {},
   "source": [
    "### Orders for location one"
   ]
  },
  {
   "cell_type": "code",
   "execution_count": 36,
   "id": "05e94c78",
   "metadata": {},
   "outputs": [
    {
     "data": {
      "text/plain": [
       "month\n",
       "1     5072\n",
       "2     6116\n",
       "3     7499\n",
       "4     3711\n",
       "5     4060\n",
       "6     3766\n",
       "7     4306\n",
       "8     3796\n",
       "9     4364\n",
       "10    5423\n",
       "11    5919\n",
       "12    4149\n",
       "Name: id, dtype: int64"
      ]
     },
     "execution_count": 36,
     "metadata": {},
     "output_type": "execute_result"
    }
   ],
   "source": [
    "Orders1 = location_one_data.groupby(by=\"month\").count()[\"id\"]\n",
    "Orders1"
   ]
  },
  {
   "cell_type": "code",
   "execution_count": 37,
   "id": "275b0f2e",
   "metadata": {},
   "outputs": [
    {
     "data": {
      "text/plain": [
       "array([[5072, 6116, 7499, 3711, 4060, 3766, 4306, 3796, 4364, 5423, 5919,\n",
       "        4149]], dtype=int64)"
      ]
     },
     "execution_count": 37,
     "metadata": {},
     "output_type": "execute_result"
    }
   ],
   "source": [
    "# reshaping\n",
    "Orders1 = Orders1.values.reshape((1,12))\n",
    "Orders1"
   ]
  },
  {
   "cell_type": "markdown",
   "id": "3e9488c8",
   "metadata": {},
   "source": [
    "### Unique Customers for location one"
   ]
  },
  {
   "cell_type": "code",
   "execution_count": 38,
   "id": "26465d77",
   "metadata": {},
   "outputs": [
    {
     "data": {
      "text/plain": [
       "month\n",
       "1     4262\n",
       "2     5091\n",
       "3     6146\n",
       "4     3134\n",
       "5     3364\n",
       "6     3302\n",
       "7     3690\n",
       "8     3304\n",
       "9     3701\n",
       "10    4322\n",
       "11    4755\n",
       "12    3492\n",
       "Name: customer_id, dtype: int64"
      ]
     },
     "execution_count": 38,
     "metadata": {},
     "output_type": "execute_result"
    }
   ],
   "source": [
    "Customers1 =location_one_data.groupby(\"month\").nunique()[\"customer_id\"]\n",
    "Customers1"
   ]
  },
  {
   "cell_type": "code",
   "execution_count": 39,
   "id": "be0191a5",
   "metadata": {},
   "outputs": [
    {
     "data": {
      "text/plain": [
       "array([[4262, 5091, 6146, 3134, 3364, 3302, 3690, 3304, 3701, 4322, 4755,\n",
       "        3492]], dtype=int64)"
      ]
     },
     "execution_count": 39,
     "metadata": {},
     "output_type": "execute_result"
    }
   ],
   "source": [
    "# reshaping\n",
    "Customers1 = Customers1.values.reshape((1,12))\n",
    "Customers1\n"
   ]
  },
  {
   "cell_type": "markdown",
   "id": "291e5891",
   "metadata": {},
   "source": [
    "### New customers for location one"
   ]
  },
  {
   "cell_type": "code",
   "execution_count": 40,
   "id": "a8b87ec4",
   "metadata": {},
   "outputs": [
    {
     "data": {
      "text/html": [
       "<div>\n",
       "<style scoped>\n",
       "    .dataframe tbody tr th:only-of-type {\n",
       "        vertical-align: middle;\n",
       "    }\n",
       "\n",
       "    .dataframe tbody tr th {\n",
       "        vertical-align: top;\n",
       "    }\n",
       "\n",
       "    .dataframe thead th {\n",
       "        text-align: right;\n",
       "    }\n",
       "</style>\n",
       "<table border=\"1\" class=\"dataframe\">\n",
       "  <thead>\n",
       "    <tr style=\"text-align: right;\">\n",
       "      <th></th>\n",
       "      <th>id</th>\n",
       "      <th>customer_id</th>\n",
       "      <th>location_id</th>\n",
       "      <th>channel</th>\n",
       "      <th>amount</th>\n",
       "      <th>bill_no</th>\n",
       "      <th>year</th>\n",
       "      <th>month</th>\n",
       "      <th>new_customer</th>\n",
       "      <th>repeated_customer</th>\n",
       "    </tr>\n",
       "  </thead>\n",
       "  <tbody>\n",
       "    <tr>\n",
       "      <th>0</th>\n",
       "      <td>42877344</td>\n",
       "      <td>60</td>\n",
       "      <td>192</td>\n",
       "      <td>uber</td>\n",
       "      <td>1039</td>\n",
       "      <td>GGN001-24323</td>\n",
       "      <td>2018</td>\n",
       "      <td>6</td>\n",
       "      <td>0</td>\n",
       "      <td>1</td>\n",
       "    </tr>\n",
       "    <tr>\n",
       "      <th>9</th>\n",
       "      <td>43252192</td>\n",
       "      <td>180</td>\n",
       "      <td>192</td>\n",
       "      <td>takeaway</td>\n",
       "      <td>450</td>\n",
       "      <td>GGN001-30768</td>\n",
       "      <td>2018</td>\n",
       "      <td>4</td>\n",
       "      <td>0</td>\n",
       "      <td>1</td>\n",
       "    </tr>\n",
       "    <tr>\n",
       "      <th>10</th>\n",
       "      <td>50301882</td>\n",
       "      <td>180</td>\n",
       "      <td>192</td>\n",
       "      <td>call</td>\n",
       "      <td>498</td>\n",
       "      <td>GGN001-45567</td>\n",
       "      <td>2018</td>\n",
       "      <td>10</td>\n",
       "      <td>0</td>\n",
       "      <td>1</td>\n",
       "    </tr>\n",
       "    <tr>\n",
       "      <th>20</th>\n",
       "      <td>46912884</td>\n",
       "      <td>734</td>\n",
       "      <td>192</td>\n",
       "      <td>zomato</td>\n",
       "      <td>1032</td>\n",
       "      <td>GGN001-49633</td>\n",
       "      <td>2018</td>\n",
       "      <td>6</td>\n",
       "      <td>0</td>\n",
       "      <td>1</td>\n",
       "    </tr>\n",
       "    <tr>\n",
       "      <th>21</th>\n",
       "      <td>38629641</td>\n",
       "      <td>790</td>\n",
       "      <td>192</td>\n",
       "      <td>takeaway</td>\n",
       "      <td>1365</td>\n",
       "      <td>GGN001-6908</td>\n",
       "      <td>2018</td>\n",
       "      <td>2</td>\n",
       "      <td>0</td>\n",
       "      <td>1</td>\n",
       "    </tr>\n",
       "  </tbody>\n",
       "</table>\n",
       "</div>"
      ],
      "text/plain": [
       "          id  customer_id  location_id   channel  amount       bill_no  year  \\\n",
       "0   42877344           60          192      uber    1039  GGN001-24323  2018   \n",
       "9   43252192          180          192  takeaway     450  GGN001-30768  2018   \n",
       "10  50301882          180          192      call     498  GGN001-45567  2018   \n",
       "20  46912884          734          192    zomato    1032  GGN001-49633  2018   \n",
       "21  38629641          790          192  takeaway    1365   GGN001-6908  2018   \n",
       "\n",
       "    month  new_customer  repeated_customer  \n",
       "0       6             0                  1  \n",
       "9       4             0                  1  \n",
       "10     10             0                  1  \n",
       "20      6             0                  1  \n",
       "21      2             0                  1  "
      ]
     },
     "execution_count": 40,
     "metadata": {},
     "output_type": "execute_result"
    }
   ],
   "source": [
    "location_one_data.head()"
   ]
  },
  {
   "cell_type": "code",
   "execution_count": 41,
   "id": "2eb76d61",
   "metadata": {},
   "outputs": [
    {
     "data": {
      "text/plain": [
       "month\n",
       "1     3726\n",
       "2     4674\n",
       "3     5940\n",
       "4     2768\n",
       "5     2979\n",
       "6     2791\n",
       "7     3316\n",
       "8     2870\n",
       "9     3404\n",
       "10    4482\n",
       "11    4830\n",
       "12    3266\n",
       "Name: new_customer, dtype: int64"
      ]
     },
     "execution_count": 41,
     "metadata": {},
     "output_type": "execute_result"
    }
   ],
   "source": [
    "New_customers1 = location_one_data.groupby([\"month\"]).sum()[\"new_customer\"]\n",
    "New_customers1"
   ]
  },
  {
   "cell_type": "code",
   "execution_count": 42,
   "id": "f3960659",
   "metadata": {},
   "outputs": [
    {
     "data": {
      "text/plain": [
       "array([[3726, 4674, 5940, 2768, 2979, 2791, 3316, 2870, 3404, 4482, 4830,\n",
       "        3266]], dtype=int64)"
      ]
     },
     "execution_count": 42,
     "metadata": {},
     "output_type": "execute_result"
    }
   ],
   "source": [
    "# reshaping\n",
    "New_customers1 = New_customers1.values.reshape((1,12))\n",
    "New_customers1"
   ]
  },
  {
   "cell_type": "markdown",
   "id": "5c75df3a",
   "metadata": {},
   "source": [
    "### Repeated customers fir location one"
   ]
  },
  {
   "cell_type": "markdown",
   "id": "86172d79",
   "metadata": {},
   "source": [
    "***Customers with order more than one are repeated customers***"
   ]
  },
  {
   "cell_type": "code",
   "execution_count": 43,
   "id": "d67ce5c0",
   "metadata": {},
   "outputs": [
    {
     "data": {
      "text/html": [
       "<div>\n",
       "<style scoped>\n",
       "    .dataframe tbody tr th:only-of-type {\n",
       "        vertical-align: middle;\n",
       "    }\n",
       "\n",
       "    .dataframe tbody tr th {\n",
       "        vertical-align: top;\n",
       "    }\n",
       "\n",
       "    .dataframe thead th {\n",
       "        text-align: right;\n",
       "    }\n",
       "</style>\n",
       "<table border=\"1\" class=\"dataframe\">\n",
       "  <thead>\n",
       "    <tr style=\"text-align: right;\">\n",
       "      <th></th>\n",
       "      <th>id</th>\n",
       "      <th>customer_id</th>\n",
       "      <th>location_id</th>\n",
       "      <th>channel</th>\n",
       "      <th>amount</th>\n",
       "      <th>bill_no</th>\n",
       "      <th>year</th>\n",
       "      <th>month</th>\n",
       "      <th>new_customer</th>\n",
       "      <th>repeated_customer</th>\n",
       "    </tr>\n",
       "  </thead>\n",
       "  <tbody>\n",
       "    <tr>\n",
       "      <th>0</th>\n",
       "      <td>42877344</td>\n",
       "      <td>60</td>\n",
       "      <td>192</td>\n",
       "      <td>uber</td>\n",
       "      <td>1039</td>\n",
       "      <td>GGN001-24323</td>\n",
       "      <td>2018</td>\n",
       "      <td>6</td>\n",
       "      <td>0</td>\n",
       "      <td>1</td>\n",
       "    </tr>\n",
       "    <tr>\n",
       "      <th>9</th>\n",
       "      <td>43252192</td>\n",
       "      <td>180</td>\n",
       "      <td>192</td>\n",
       "      <td>takeaway</td>\n",
       "      <td>450</td>\n",
       "      <td>GGN001-30768</td>\n",
       "      <td>2018</td>\n",
       "      <td>4</td>\n",
       "      <td>0</td>\n",
       "      <td>1</td>\n",
       "    </tr>\n",
       "    <tr>\n",
       "      <th>10</th>\n",
       "      <td>50301882</td>\n",
       "      <td>180</td>\n",
       "      <td>192</td>\n",
       "      <td>call</td>\n",
       "      <td>498</td>\n",
       "      <td>GGN001-45567</td>\n",
       "      <td>2018</td>\n",
       "      <td>10</td>\n",
       "      <td>0</td>\n",
       "      <td>1</td>\n",
       "    </tr>\n",
       "    <tr>\n",
       "      <th>20</th>\n",
       "      <td>46912884</td>\n",
       "      <td>734</td>\n",
       "      <td>192</td>\n",
       "      <td>zomato</td>\n",
       "      <td>1032</td>\n",
       "      <td>GGN001-49633</td>\n",
       "      <td>2018</td>\n",
       "      <td>6</td>\n",
       "      <td>0</td>\n",
       "      <td>1</td>\n",
       "    </tr>\n",
       "    <tr>\n",
       "      <th>21</th>\n",
       "      <td>38629641</td>\n",
       "      <td>790</td>\n",
       "      <td>192</td>\n",
       "      <td>takeaway</td>\n",
       "      <td>1365</td>\n",
       "      <td>GGN001-6908</td>\n",
       "      <td>2018</td>\n",
       "      <td>2</td>\n",
       "      <td>0</td>\n",
       "      <td>1</td>\n",
       "    </tr>\n",
       "  </tbody>\n",
       "</table>\n",
       "</div>"
      ],
      "text/plain": [
       "          id  customer_id  location_id   channel  amount       bill_no  year  \\\n",
       "0   42877344           60          192      uber    1039  GGN001-24323  2018   \n",
       "9   43252192          180          192  takeaway     450  GGN001-30768  2018   \n",
       "10  50301882          180          192      call     498  GGN001-45567  2018   \n",
       "20  46912884          734          192    zomato    1032  GGN001-49633  2018   \n",
       "21  38629641          790          192  takeaway    1365   GGN001-6908  2018   \n",
       "\n",
       "    month  new_customer  repeated_customer  \n",
       "0       6             0                  1  \n",
       "9       4             0                  1  \n",
       "10     10             0                  1  \n",
       "20      6             0                  1  \n",
       "21      2             0                  1  "
      ]
     },
     "execution_count": 43,
     "metadata": {},
     "output_type": "execute_result"
    }
   ],
   "source": [
    "location_one_data.head()"
   ]
  },
  {
   "cell_type": "code",
   "execution_count": 44,
   "id": "13f867d8",
   "metadata": {},
   "outputs": [
    {
     "data": {
      "text/plain": [
       "month\n",
       "1     1346\n",
       "2     1442\n",
       "3     1559\n",
       "4      943\n",
       "5     1081\n",
       "6      975\n",
       "7      990\n",
       "8      926\n",
       "9      960\n",
       "10     941\n",
       "11    1089\n",
       "12     883\n",
       "Name: repeated_customer, dtype: int64"
      ]
     },
     "execution_count": 44,
     "metadata": {},
     "output_type": "execute_result"
    }
   ],
   "source": [
    "Repeated_customers1 = location_one_data.groupby([\"month\"]).sum()[\"repeated_customer\"]\n",
    "Repeated_customers1"
   ]
  },
  {
   "cell_type": "code",
   "execution_count": 45,
   "id": "71f0f3fe",
   "metadata": {},
   "outputs": [
    {
     "data": {
      "text/plain": [
       "array([[1346, 1442, 1559,  943, 1081,  975,  990,  926,  960,  941, 1089,\n",
       "         883]], dtype=int64)"
      ]
     },
     "execution_count": 45,
     "metadata": {},
     "output_type": "execute_result"
    }
   ],
   "source": [
    "# reshaping\n",
    "Repeated_customers1 = Repeated_customers1.values.reshape((1,12))\n",
    "Repeated_customers1"
   ]
  },
  {
   "cell_type": "markdown",
   "id": "9b5e1b3c",
   "metadata": {},
   "source": [
    "### Frequency for location one "
   ]
  },
  {
   "cell_type": "code",
   "execution_count": 46,
   "id": "9e49ef78",
   "metadata": {
    "scrolled": true
   },
   "outputs": [
    {
     "data": {
      "text/plain": [
       "array([[1.19005162, 1.20133569, 1.22014318, 1.18410976, 1.20689655,\n",
       "        1.1405209 , 1.16693767, 1.14891041, 1.17914077, 1.25474317,\n",
       "        1.24479495, 1.18814433]])"
      ]
     },
     "execution_count": 46,
     "metadata": {},
     "output_type": "execute_result"
    }
   ],
   "source": [
    "frequency1 = Orders1/Customers1\n",
    "frequency1"
   ]
  },
  {
   "cell_type": "code",
   "execution_count": 47,
   "id": "2d75eeab",
   "metadata": {},
   "outputs": [
    {
     "data": {
      "text/plain": [
       "(1, 12)"
      ]
     },
     "execution_count": 47,
     "metadata": {},
     "output_type": "execute_result"
    }
   ],
   "source": [
    "frequency1.shape"
   ]
  },
  {
   "cell_type": "code",
   "execution_count": 48,
   "id": "aa1223ae",
   "metadata": {},
   "outputs": [
    {
     "data": {
      "text/plain": [
       "(12,)"
      ]
     },
     "execution_count": 48,
     "metadata": {},
     "output_type": "execute_result"
    }
   ],
   "source": [
    "frequency1 = frequency1.reshape((-1))\n",
    "frequency1 = pd.Series(frequency1)\n",
    "frequency1.shape"
   ]
  },
  {
   "cell_type": "code",
   "execution_count": 49,
   "id": "a16f8349",
   "metadata": {},
   "outputs": [
    {
     "data": {
      "text/plain": [
       "array([[1.19005162, 1.20133569, 1.22014318, 1.18410976, 1.20689655,\n",
       "        1.1405209 , 1.16693767, 1.14891041, 1.17914077, 1.25474317,\n",
       "        1.24479495, 1.18814433]])"
      ]
     },
     "execution_count": 49,
     "metadata": {},
     "output_type": "execute_result"
    }
   ],
   "source": [
    "# reshaping\n",
    "frequency1= frequency1.values.reshape((1,12))\n",
    "frequency1"
   ]
  },
  {
   "cell_type": "markdown",
   "id": "a8d26437",
   "metadata": {},
   "source": [
    "## Dataframe for location one"
   ]
  },
  {
   "cell_type": "code",
   "execution_count": 50,
   "id": "ae243761",
   "metadata": {},
   "outputs": [],
   "source": [
    "location1 = location1= pd.DataFrame(columns=[\"month1\",\"month2\",\"month3\",\"month4\",\"month5\",\"month6\",\"month7\",\"month8\",\"month9\",\"month10\",\"month11\",\"month12\"],\n",
    "                      index=[\"Revenue\",\"Orders\",\"Customers\",\"New Customers\",\"Repeated Customers\",\"Frequnency\"])\n",
    "\n",
    "location1.iloc[0:1,:] = Revenue1\n",
    "location1.iloc[1:2,:] = Orders1\n",
    "location1.iloc[2:3,:] = Customers1\n",
    "location1.iloc[3:4,:] = New_customers1\n",
    "location1.iloc[4:5,:] = Repeated_customers1\n",
    "location1.iloc[5:6,:] = frequency1"
   ]
  },
  {
   "cell_type": "code",
   "execution_count": 51,
   "id": "6b57d7ef",
   "metadata": {},
   "outputs": [
    {
     "data": {
      "text/html": [
       "<div>\n",
       "<style scoped>\n",
       "    .dataframe tbody tr th:only-of-type {\n",
       "        vertical-align: middle;\n",
       "    }\n",
       "\n",
       "    .dataframe tbody tr th {\n",
       "        vertical-align: top;\n",
       "    }\n",
       "\n",
       "    .dataframe thead th {\n",
       "        text-align: right;\n",
       "    }\n",
       "</style>\n",
       "<table border=\"1\" class=\"dataframe\">\n",
       "  <thead>\n",
       "    <tr style=\"text-align: right;\">\n",
       "      <th></th>\n",
       "      <th>month1</th>\n",
       "      <th>month2</th>\n",
       "      <th>month3</th>\n",
       "      <th>month4</th>\n",
       "      <th>month5</th>\n",
       "      <th>month6</th>\n",
       "      <th>month7</th>\n",
       "      <th>month8</th>\n",
       "      <th>month9</th>\n",
       "      <th>month10</th>\n",
       "      <th>month11</th>\n",
       "      <th>month12</th>\n",
       "    </tr>\n",
       "  </thead>\n",
       "  <tbody>\n",
       "    <tr>\n",
       "      <th>Revenue</th>\n",
       "      <td>2853294</td>\n",
       "      <td>3096092</td>\n",
       "      <td>3407309</td>\n",
       "      <td>1818778</td>\n",
       "      <td>1976465</td>\n",
       "      <td>2127114</td>\n",
       "      <td>2400093</td>\n",
       "      <td>2109800</td>\n",
       "      <td>2379890</td>\n",
       "      <td>2804921</td>\n",
       "      <td>3214703</td>\n",
       "      <td>2141932</td>\n",
       "    </tr>\n",
       "    <tr>\n",
       "      <th>Orders</th>\n",
       "      <td>5072</td>\n",
       "      <td>6116</td>\n",
       "      <td>7499</td>\n",
       "      <td>3711</td>\n",
       "      <td>4060</td>\n",
       "      <td>3766</td>\n",
       "      <td>4306</td>\n",
       "      <td>3796</td>\n",
       "      <td>4364</td>\n",
       "      <td>5423</td>\n",
       "      <td>5919</td>\n",
       "      <td>4149</td>\n",
       "    </tr>\n",
       "    <tr>\n",
       "      <th>Customers</th>\n",
       "      <td>4262</td>\n",
       "      <td>5091</td>\n",
       "      <td>6146</td>\n",
       "      <td>3134</td>\n",
       "      <td>3364</td>\n",
       "      <td>3302</td>\n",
       "      <td>3690</td>\n",
       "      <td>3304</td>\n",
       "      <td>3701</td>\n",
       "      <td>4322</td>\n",
       "      <td>4755</td>\n",
       "      <td>3492</td>\n",
       "    </tr>\n",
       "    <tr>\n",
       "      <th>New Customers</th>\n",
       "      <td>3726</td>\n",
       "      <td>4674</td>\n",
       "      <td>5940</td>\n",
       "      <td>2768</td>\n",
       "      <td>2979</td>\n",
       "      <td>2791</td>\n",
       "      <td>3316</td>\n",
       "      <td>2870</td>\n",
       "      <td>3404</td>\n",
       "      <td>4482</td>\n",
       "      <td>4830</td>\n",
       "      <td>3266</td>\n",
       "    </tr>\n",
       "    <tr>\n",
       "      <th>Repeated Customers</th>\n",
       "      <td>1346</td>\n",
       "      <td>1442</td>\n",
       "      <td>1559</td>\n",
       "      <td>943</td>\n",
       "      <td>1081</td>\n",
       "      <td>975</td>\n",
       "      <td>990</td>\n",
       "      <td>926</td>\n",
       "      <td>960</td>\n",
       "      <td>941</td>\n",
       "      <td>1089</td>\n",
       "      <td>883</td>\n",
       "    </tr>\n",
       "    <tr>\n",
       "      <th>Frequnency</th>\n",
       "      <td>1.190052</td>\n",
       "      <td>1.201336</td>\n",
       "      <td>1.220143</td>\n",
       "      <td>1.18411</td>\n",
       "      <td>1.206897</td>\n",
       "      <td>1.140521</td>\n",
       "      <td>1.166938</td>\n",
       "      <td>1.14891</td>\n",
       "      <td>1.179141</td>\n",
       "      <td>1.254743</td>\n",
       "      <td>1.244795</td>\n",
       "      <td>1.188144</td>\n",
       "    </tr>\n",
       "  </tbody>\n",
       "</table>\n",
       "</div>"
      ],
      "text/plain": [
       "                      month1    month2    month3   month4    month5    month6  \\\n",
       "Revenue              2853294   3096092   3407309  1818778   1976465   2127114   \n",
       "Orders                  5072      6116      7499     3711      4060      3766   \n",
       "Customers               4262      5091      6146     3134      3364      3302   \n",
       "New Customers           3726      4674      5940     2768      2979      2791   \n",
       "Repeated Customers      1346      1442      1559      943      1081       975   \n",
       "Frequnency          1.190052  1.201336  1.220143  1.18411  1.206897  1.140521   \n",
       "\n",
       "                      month7   month8    month9   month10   month11   month12  \n",
       "Revenue              2400093  2109800   2379890   2804921   3214703   2141932  \n",
       "Orders                  4306     3796      4364      5423      5919      4149  \n",
       "Customers               3690     3304      3701      4322      4755      3492  \n",
       "New Customers           3316     2870      3404      4482      4830      3266  \n",
       "Repeated Customers       990      926       960       941      1089       883  \n",
       "Frequnency          1.166938  1.14891  1.179141  1.254743  1.244795  1.188144  "
      ]
     },
     "execution_count": 51,
     "metadata": {},
     "output_type": "execute_result"
    }
   ],
   "source": [
    "location1"
   ]
  },
  {
   "cell_type": "markdown",
   "id": "9e42eaed",
   "metadata": {},
   "source": [
    "# 3.Sheet name :Location Two."
   ]
  },
  {
   "cell_type": "markdown",
   "id": "a3789b21",
   "metadata": {},
   "source": [
    "# Let's do the same for <font color=\"red\">LOCATION TWO</font>"
   ]
  },
  {
   "cell_type": "code",
   "execution_count": 52,
   "id": "6be31178",
   "metadata": {},
   "outputs": [
    {
     "data": {
      "text/plain": [
       "535"
      ]
     },
     "execution_count": 52,
     "metadata": {},
     "output_type": "execute_result"
    }
   ],
   "source": [
    "# taking location two\n",
    "location2 = df[\"location_id\"][1]\n",
    "location2"
   ]
  },
  {
   "cell_type": "code",
   "execution_count": 53,
   "id": "2b4745e6",
   "metadata": {},
   "outputs": [
    {
     "data": {
      "text/html": [
       "<div>\n",
       "<style scoped>\n",
       "    .dataframe tbody tr th:only-of-type {\n",
       "        vertical-align: middle;\n",
       "    }\n",
       "\n",
       "    .dataframe tbody tr th {\n",
       "        vertical-align: top;\n",
       "    }\n",
       "\n",
       "    .dataframe thead th {\n",
       "        text-align: right;\n",
       "    }\n",
       "</style>\n",
       "<table border=\"1\" class=\"dataframe\">\n",
       "  <thead>\n",
       "    <tr style=\"text-align: right;\">\n",
       "      <th></th>\n",
       "      <th>id</th>\n",
       "      <th>customer_id</th>\n",
       "      <th>location_id</th>\n",
       "      <th>channel</th>\n",
       "      <th>amount</th>\n",
       "      <th>bill_no</th>\n",
       "      <th>year</th>\n",
       "      <th>month</th>\n",
       "      <th>new_customer</th>\n",
       "      <th>repeated_customer</th>\n",
       "    </tr>\n",
       "  </thead>\n",
       "  <tbody>\n",
       "    <tr>\n",
       "      <th>1</th>\n",
       "      <td>35625005</td>\n",
       "      <td>134</td>\n",
       "      <td>535</td>\n",
       "      <td>takeaway</td>\n",
       "      <td>1029</td>\n",
       "      <td>DEL007-1522</td>\n",
       "      <td>2018</td>\n",
       "      <td>1</td>\n",
       "      <td>0</td>\n",
       "      <td>1</td>\n",
       "    </tr>\n",
       "    <tr>\n",
       "      <th>19</th>\n",
       "      <td>39746591</td>\n",
       "      <td>726</td>\n",
       "      <td>535</td>\n",
       "      <td>outlet</td>\n",
       "      <td>1489</td>\n",
       "      <td>DEL007-4839</td>\n",
       "      <td>2018</td>\n",
       "      <td>3</td>\n",
       "      <td>0</td>\n",
       "      <td>1</td>\n",
       "    </tr>\n",
       "    <tr>\n",
       "      <th>22</th>\n",
       "      <td>58058872</td>\n",
       "      <td>854</td>\n",
       "      <td>535</td>\n",
       "      <td>dine in</td>\n",
       "      <td>359</td>\n",
       "      <td>DEL007-25861</td>\n",
       "      <td>2019</td>\n",
       "      <td>2</td>\n",
       "      <td>0</td>\n",
       "      <td>1</td>\n",
       "    </tr>\n",
       "    <tr>\n",
       "      <th>46</th>\n",
       "      <td>36824556</td>\n",
       "      <td>2107</td>\n",
       "      <td>535</td>\n",
       "      <td>foodpanda</td>\n",
       "      <td>372</td>\n",
       "      <td>DEL007-2478</td>\n",
       "      <td>2018</td>\n",
       "      <td>8</td>\n",
       "      <td>0</td>\n",
       "      <td>1</td>\n",
       "    </tr>\n",
       "    <tr>\n",
       "      <th>64</th>\n",
       "      <td>50269530</td>\n",
       "      <td>2589</td>\n",
       "      <td>535</td>\n",
       "      <td>zomato</td>\n",
       "      <td>1181</td>\n",
       "      <td>DEL007-14494</td>\n",
       "      <td>2018</td>\n",
       "      <td>6</td>\n",
       "      <td>0</td>\n",
       "      <td>1</td>\n",
       "    </tr>\n",
       "    <tr>\n",
       "      <th>...</th>\n",
       "      <td>...</td>\n",
       "      <td>...</td>\n",
       "      <td>...</td>\n",
       "      <td>...</td>\n",
       "      <td>...</td>\n",
       "      <td>...</td>\n",
       "      <td>...</td>\n",
       "      <td>...</td>\n",
       "      <td>...</td>\n",
       "      <td>...</td>\n",
       "    </tr>\n",
       "    <tr>\n",
       "      <th>533175</th>\n",
       "      <td>63919459</td>\n",
       "      <td>11655046</td>\n",
       "      <td>535</td>\n",
       "      <td>zomato</td>\n",
       "      <td>203</td>\n",
       "      <td>DEL007-31194</td>\n",
       "      <td>2019</td>\n",
       "      <td>10</td>\n",
       "      <td>1</td>\n",
       "      <td>0</td>\n",
       "    </tr>\n",
       "    <tr>\n",
       "      <th>533182</th>\n",
       "      <td>63919504</td>\n",
       "      <td>11655052</td>\n",
       "      <td>535</td>\n",
       "      <td>uber</td>\n",
       "      <td>504</td>\n",
       "      <td>DEL007-31241</td>\n",
       "      <td>2019</td>\n",
       "      <td>10</td>\n",
       "      <td>1</td>\n",
       "      <td>0</td>\n",
       "    </tr>\n",
       "    <tr>\n",
       "      <th>533198</th>\n",
       "      <td>63919604</td>\n",
       "      <td>11655067</td>\n",
       "      <td>535</td>\n",
       "      <td>uber</td>\n",
       "      <td>305</td>\n",
       "      <td>DEL007-31214</td>\n",
       "      <td>2019</td>\n",
       "      <td>10</td>\n",
       "      <td>1</td>\n",
       "      <td>0</td>\n",
       "    </tr>\n",
       "    <tr>\n",
       "      <th>533252</th>\n",
       "      <td>63920029</td>\n",
       "      <td>11655116</td>\n",
       "      <td>535</td>\n",
       "      <td>zomato</td>\n",
       "      <td>129</td>\n",
       "      <td>DEL007-31230</td>\n",
       "      <td>2019</td>\n",
       "      <td>10</td>\n",
       "      <td>1</td>\n",
       "      <td>0</td>\n",
       "    </tr>\n",
       "    <tr>\n",
       "      <th>533313</th>\n",
       "      <td>63920513</td>\n",
       "      <td>11655175</td>\n",
       "      <td>535</td>\n",
       "      <td>zomato</td>\n",
       "      <td>185</td>\n",
       "      <td>DEL007-31265</td>\n",
       "      <td>2019</td>\n",
       "      <td>10</td>\n",
       "      <td>1</td>\n",
       "      <td>0</td>\n",
       "    </tr>\n",
       "  </tbody>\n",
       "</table>\n",
       "<p>16968 rows × 10 columns</p>\n",
       "</div>"
      ],
      "text/plain": [
       "              id  customer_id  location_id    channel  amount       bill_no  \\\n",
       "1       35625005          134          535   takeaway    1029   DEL007-1522   \n",
       "19      39746591          726          535     outlet    1489   DEL007-4839   \n",
       "22      58058872          854          535    dine in     359  DEL007-25861   \n",
       "46      36824556         2107          535  foodpanda     372   DEL007-2478   \n",
       "64      50269530         2589          535     zomato    1181  DEL007-14494   \n",
       "...          ...          ...          ...        ...     ...           ...   \n",
       "533175  63919459     11655046          535     zomato     203  DEL007-31194   \n",
       "533182  63919504     11655052          535       uber     504  DEL007-31241   \n",
       "533198  63919604     11655067          535       uber     305  DEL007-31214   \n",
       "533252  63920029     11655116          535     zomato     129  DEL007-31230   \n",
       "533313  63920513     11655175          535     zomato     185  DEL007-31265   \n",
       "\n",
       "        year  month  new_customer  repeated_customer  \n",
       "1       2018      1             0                  1  \n",
       "19      2018      3             0                  1  \n",
       "22      2019      2             0                  1  \n",
       "46      2018      8             0                  1  \n",
       "64      2018      6             0                  1  \n",
       "...      ...    ...           ...                ...  \n",
       "533175  2019     10             1                  0  \n",
       "533182  2019     10             1                  0  \n",
       "533198  2019     10             1                  0  \n",
       "533252  2019     10             1                  0  \n",
       "533313  2019     10             1                  0  \n",
       "\n",
       "[16968 rows x 10 columns]"
      ]
     },
     "execution_count": 53,
     "metadata": {},
     "output_type": "execute_result"
    }
   ],
   "source": [
    "location_two_data = df[df[\"location_id\"]==location2]\n",
    "location_two_data"
   ]
  },
  {
   "cell_type": "code",
   "execution_count": 54,
   "id": "404b0d2d",
   "metadata": {},
   "outputs": [
    {
     "data": {
      "text/plain": [
       "(16968, 10)"
      ]
     },
     "execution_count": 54,
     "metadata": {},
     "output_type": "execute_result"
    }
   ],
   "source": [
    "# checking the shape\n",
    "location_two_data.shape"
   ]
  },
  {
   "cell_type": "markdown",
   "id": "620394e3",
   "metadata": {},
   "source": [
    "## Revenue location 2"
   ]
  },
  {
   "cell_type": "code",
   "execution_count": 55,
   "id": "514d2e38",
   "metadata": {},
   "outputs": [
    {
     "data": {
      "text/plain": [
       "array([[ 970870,  947606, 1074114,  573780,  617699,  656355,  715230,\n",
       "         573941,  387696,  900017,  986563,  591205]], dtype=int64)"
      ]
     },
     "execution_count": 55,
     "metadata": {},
     "output_type": "execute_result"
    }
   ],
   "source": [
    "\n",
    "Revenue2=location_two_data.groupby(\"month\").sum()[\"amount\"]\n",
    "\n",
    "# reshaping the data for final dataframe\n",
    "Revenue2 = Revenue2.values.reshape((1,12))\n",
    "Revenue2"
   ]
  },
  {
   "cell_type": "markdown",
   "id": "0701b749",
   "metadata": {},
   "source": [
    "## Orders location 2"
   ]
  },
  {
   "cell_type": "code",
   "execution_count": 56,
   "id": "8308afe5",
   "metadata": {},
   "outputs": [
    {
     "data": {
      "text/plain": [
       "array([[1710, 1828, 2223,  945, 1090, 1264, 1350, 1099,  759, 1675, 1885,\n",
       "        1140]], dtype=int64)"
      ]
     },
     "execution_count": 56,
     "metadata": {},
     "output_type": "execute_result"
    }
   ],
   "source": [
    "Orders2 = location_two_data.groupby(by=\"month\").count()[\"id\"]\n",
    "# reshaping\n",
    "Orders2 = Orders2.values.reshape((1,12))\n",
    "Orders2"
   ]
  },
  {
   "cell_type": "markdown",
   "id": "bc4f24c3",
   "metadata": {},
   "source": [
    "## unique customer location 2"
   ]
  },
  {
   "cell_type": "code",
   "execution_count": 57,
   "id": "0955f9c1",
   "metadata": {},
   "outputs": [
    {
     "data": {
      "text/plain": [
       "array([[1428, 1550, 1764,  823,  945, 1113, 1165,  995,  711, 1320, 1551,\n",
       "         996]], dtype=int64)"
      ]
     },
     "execution_count": 57,
     "metadata": {},
     "output_type": "execute_result"
    }
   ],
   "source": [
    "Customers2 =location_two_data.groupby(\"month\").nunique()[\"customer_id\"]\n",
    "# reshaping\n",
    "Customers2 = Customers2.values.reshape((1,12))\n",
    "Customers2\n"
   ]
  },
  {
   "cell_type": "markdown",
   "id": "459fb0a8",
   "metadata": {},
   "source": [
    "## New customer location 2"
   ]
  },
  {
   "cell_type": "code",
   "execution_count": 58,
   "id": "0dd57e95",
   "metadata": {},
   "outputs": [
    {
     "data": {
      "text/plain": [
       "array([[1451, 1557, 1890,  778,  898, 1061, 1164,  903,  644, 1513, 1695,\n",
       "         941]], dtype=int64)"
      ]
     },
     "execution_count": 58,
     "metadata": {},
     "output_type": "execute_result"
    }
   ],
   "source": [
    "New_customers2 = location_two_data.groupby([\"month\"]).sum()[\"new_customer\"]\n",
    "# reshaping\n",
    "New_customers2 = New_customers2.values.reshape((1,12))\n",
    "New_customers2\n"
   ]
  },
  {
   "cell_type": "markdown",
   "id": "e26a9bea",
   "metadata": {},
   "source": [
    "## Repeated customer location 2"
   ]
  },
  {
   "cell_type": "code",
   "execution_count": 59,
   "id": "e673a439",
   "metadata": {},
   "outputs": [
    {
     "data": {
      "text/plain": [
       "array([[259, 271, 333, 167, 192, 203, 186, 196, 115, 162, 190, 199]],\n",
       "      dtype=int64)"
      ]
     },
     "execution_count": 59,
     "metadata": {},
     "output_type": "execute_result"
    }
   ],
   "source": [
    "Repeated_customers2 = location_two_data.groupby([\"month\"]).sum()[\"repeated_customer\"]\n",
    "# reshaping\n",
    "Repeated_customers2 = Repeated_customers2.values.reshape((1,12))\n",
    "Repeated_customers2\n"
   ]
  },
  {
   "cell_type": "markdown",
   "id": "47ab1296",
   "metadata": {},
   "source": [
    "## frequency for location 2"
   ]
  },
  {
   "cell_type": "code",
   "execution_count": 60,
   "id": "143f4347",
   "metadata": {},
   "outputs": [
    {
     "data": {
      "text/plain": [
       "array([[0.04209438, 0.04135279, 0.0424002 , 0.0382715 , 0.0413945 ,\n",
       "        0.0428969 , 0.04422604, 0.04017988, 0.02291667, 0.05205258,\n",
       "        0.05267129, 0.03760515]])"
      ]
     },
     "execution_count": 60,
     "metadata": {},
     "output_type": "execute_result"
    }
   ],
   "source": [
    "frequency2 = Orders2/Customers\n",
    "# reshoping and converting to series to get the values from the series\n",
    "frequency2 = frequency2.reshape((-1))\n",
    "frequency2 = pd.Series(frequency2)\n",
    "\n",
    "# reshaping for the final dataframe\n",
    "frequency2= frequency2.values.reshape((1,12))\n",
    "frequency2\n"
   ]
  },
  {
   "cell_type": "markdown",
   "id": "f65e4b0a",
   "metadata": {},
   "source": [
    "# Datafram for the location two "
   ]
  },
  {
   "cell_type": "code",
   "execution_count": 61,
   "id": "2c2e61f7",
   "metadata": {},
   "outputs": [],
   "source": [
    "location2 = location2= pd.DataFrame(columns=[\"month1\",\"month2\",\"month3\",\"month4\",\"month5\",\"month6\",\"month7\",\"month8\",\"month9\",\"month10\",\"month11\",\"month12\"],\n",
    "                      index=[\"Revenue\",\"Orders\",\"Customers\",\"New Customers\",\"Repeated Customers\",\"Frequnency\"])\n",
    "\n",
    "location2.iloc[0:1,:] = Revenue2\n",
    "location2.iloc[1:2,:] = Orders2\n",
    "location2.iloc[2:3,:] = Customers2\n",
    "location2.iloc[3:4,:] = New_customers2\n",
    "location2.iloc[4:5,:] = Repeated_customers2\n",
    "location2.iloc[5:6,:] = frequency2"
   ]
  },
  {
   "cell_type": "code",
   "execution_count": 62,
   "id": "8faa1b3f",
   "metadata": {
    "scrolled": true
   },
   "outputs": [
    {
     "data": {
      "text/html": [
       "<div>\n",
       "<style scoped>\n",
       "    .dataframe tbody tr th:only-of-type {\n",
       "        vertical-align: middle;\n",
       "    }\n",
       "\n",
       "    .dataframe tbody tr th {\n",
       "        vertical-align: top;\n",
       "    }\n",
       "\n",
       "    .dataframe thead th {\n",
       "        text-align: right;\n",
       "    }\n",
       "</style>\n",
       "<table border=\"1\" class=\"dataframe\">\n",
       "  <thead>\n",
       "    <tr style=\"text-align: right;\">\n",
       "      <th></th>\n",
       "      <th>month1</th>\n",
       "      <th>month2</th>\n",
       "      <th>month3</th>\n",
       "      <th>month4</th>\n",
       "      <th>month5</th>\n",
       "      <th>month6</th>\n",
       "      <th>month7</th>\n",
       "      <th>month8</th>\n",
       "      <th>month9</th>\n",
       "      <th>month10</th>\n",
       "      <th>month11</th>\n",
       "      <th>month12</th>\n",
       "    </tr>\n",
       "  </thead>\n",
       "  <tbody>\n",
       "    <tr>\n",
       "      <th>Revenue</th>\n",
       "      <td>970870</td>\n",
       "      <td>947606</td>\n",
       "      <td>1074114</td>\n",
       "      <td>573780</td>\n",
       "      <td>617699</td>\n",
       "      <td>656355</td>\n",
       "      <td>715230</td>\n",
       "      <td>573941</td>\n",
       "      <td>387696</td>\n",
       "      <td>900017</td>\n",
       "      <td>986563</td>\n",
       "      <td>591205</td>\n",
       "    </tr>\n",
       "    <tr>\n",
       "      <th>Orders</th>\n",
       "      <td>1710</td>\n",
       "      <td>1828</td>\n",
       "      <td>2223</td>\n",
       "      <td>945</td>\n",
       "      <td>1090</td>\n",
       "      <td>1264</td>\n",
       "      <td>1350</td>\n",
       "      <td>1099</td>\n",
       "      <td>759</td>\n",
       "      <td>1675</td>\n",
       "      <td>1885</td>\n",
       "      <td>1140</td>\n",
       "    </tr>\n",
       "    <tr>\n",
       "      <th>Customers</th>\n",
       "      <td>1428</td>\n",
       "      <td>1550</td>\n",
       "      <td>1764</td>\n",
       "      <td>823</td>\n",
       "      <td>945</td>\n",
       "      <td>1113</td>\n",
       "      <td>1165</td>\n",
       "      <td>995</td>\n",
       "      <td>711</td>\n",
       "      <td>1320</td>\n",
       "      <td>1551</td>\n",
       "      <td>996</td>\n",
       "    </tr>\n",
       "    <tr>\n",
       "      <th>New Customers</th>\n",
       "      <td>1451</td>\n",
       "      <td>1557</td>\n",
       "      <td>1890</td>\n",
       "      <td>778</td>\n",
       "      <td>898</td>\n",
       "      <td>1061</td>\n",
       "      <td>1164</td>\n",
       "      <td>903</td>\n",
       "      <td>644</td>\n",
       "      <td>1513</td>\n",
       "      <td>1695</td>\n",
       "      <td>941</td>\n",
       "    </tr>\n",
       "    <tr>\n",
       "      <th>Repeated Customers</th>\n",
       "      <td>259</td>\n",
       "      <td>271</td>\n",
       "      <td>333</td>\n",
       "      <td>167</td>\n",
       "      <td>192</td>\n",
       "      <td>203</td>\n",
       "      <td>186</td>\n",
       "      <td>196</td>\n",
       "      <td>115</td>\n",
       "      <td>162</td>\n",
       "      <td>190</td>\n",
       "      <td>199</td>\n",
       "    </tr>\n",
       "    <tr>\n",
       "      <th>Frequnency</th>\n",
       "      <td>0.042094</td>\n",
       "      <td>0.041353</td>\n",
       "      <td>0.0424</td>\n",
       "      <td>0.038272</td>\n",
       "      <td>0.041395</td>\n",
       "      <td>0.042897</td>\n",
       "      <td>0.044226</td>\n",
       "      <td>0.04018</td>\n",
       "      <td>0.022917</td>\n",
       "      <td>0.052053</td>\n",
       "      <td>0.052671</td>\n",
       "      <td>0.037605</td>\n",
       "    </tr>\n",
       "  </tbody>\n",
       "</table>\n",
       "</div>"
      ],
      "text/plain": [
       "                      month1    month2   month3    month4    month5    month6  \\\n",
       "Revenue               970870    947606  1074114    573780    617699    656355   \n",
       "Orders                  1710      1828     2223       945      1090      1264   \n",
       "Customers               1428      1550     1764       823       945      1113   \n",
       "New Customers           1451      1557     1890       778       898      1061   \n",
       "Repeated Customers       259       271      333       167       192       203   \n",
       "Frequnency          0.042094  0.041353   0.0424  0.038272  0.041395  0.042897   \n",
       "\n",
       "                      month7   month8    month9   month10   month11   month12  \n",
       "Revenue               715230   573941    387696    900017    986563    591205  \n",
       "Orders                  1350     1099       759      1675      1885      1140  \n",
       "Customers               1165      995       711      1320      1551       996  \n",
       "New Customers           1164      903       644      1513      1695       941  \n",
       "Repeated Customers       186      196       115       162       190       199  \n",
       "Frequnency          0.044226  0.04018  0.022917  0.052053  0.052671  0.037605  "
      ]
     },
     "execution_count": 62,
     "metadata": {},
     "output_type": "execute_result"
    }
   ],
   "source": [
    "location2"
   ]
  },
  {
   "cell_type": "code",
   "execution_count": 63,
   "id": "d6d6ffdd",
   "metadata": {},
   "outputs": [],
   "source": [
    "with pd.ExcelWriter('final3.xlsx') as writer1:\n",
    "    Overall.to_excel(writer1, sheet_name = 'Overall')\n",
    "    location1.to_excel(writer1, sheet_name = 'location1')\n",
    "    location2.to_excel(writer1, sheet_name = 'location2')"
   ]
  },
  {
   "cell_type": "markdown",
   "id": "1b115ad8",
   "metadata": {},
   "source": [
    "# But the problem is dataset have 33 location\n",
    "## for doing manually it will take lot of time..\n",
    "## so for this have to make one function\n"
   ]
  },
  {
   "cell_type": "code",
   "execution_count": 64,
   "id": "263009ab",
   "metadata": {},
   "outputs": [],
   "source": [
    "def location_wise(df,location_id):\n",
    "        df = df[df[\"location_id\"]==location_id]\n",
    "        #revenue\n",
    "        Revenue = df.groupby(\"month\").sum()[\"amount\"]\n",
    "        Revenue = Revenue.values.reshape((1,12))\n",
    "        \n",
    "        #order\n",
    "        Orders = df.groupby(by=\"month\").count()[\"id\"]\n",
    "        Orders = Orders.values.reshape((1,12))\n",
    "        \n",
    "        #uniques customers\n",
    "        Customers =df.groupby(\"month\").nunique()[\"customer_id\"]\n",
    "        Customers =Customers.values.reshape((1,12))\n",
    "        \n",
    "        #new customers\n",
    "        New_customers = df.groupby([\"month\"]).sum()[\"new_customer\"]\n",
    "        New_customers = New_customers.values.reshape((1,12))\n",
    "       \n",
    "        #repeated customers\n",
    "        Repeated_customers = df.groupby([\"month\"]).sum()[\"repeated_customer\"]\n",
    "        Repeated_customers = Repeated_customers.values.reshape((1,12))\n",
    "        \n",
    "        #frequnecy\n",
    "        frequency = Orders/Customers\n",
    "        # reshoping and converting to series to get the values from the series\n",
    "        frequency = frequency.reshape((-1))\n",
    "        frequency = pd.Series(frequency)\n",
    "        # reshaping for the final dataframe\n",
    "        frequency= frequency.values.reshape((1,12))\n",
    "        \n",
    "        location = pd.DataFrame(columns=[\"month1\",\"month2\",\"month3\",\"month4\",\"month5\",\"month6\",\"month7\",\"month8\",\"month9\",\"month10\",\"month11\",\"month12\"],\n",
    "                      index=[\"Revenue\",\"Orders\",\"Customers\",\"New Customers\",\"Repeated Customers\",\"Frequnency\"])\n",
    "\n",
    "        location.iloc[0:1,:] = Revenue\n",
    "        location.iloc[1:2,:] = Orders\n",
    "        location.iloc[2:3,:] = Customers\n",
    "        location.iloc[3:4,:] = New_customers\n",
    "        location.iloc[4:5,:] = Repeated_customers\n",
    "        location.iloc[5:6,:] = frequency\n",
    "        \n",
    "        return location\n",
    "    \n",
    "    "
   ]
  },
  {
   "cell_type": "code",
   "execution_count": 65,
   "id": "b16439ca",
   "metadata": {
    "scrolled": false
   },
   "outputs": [
    {
     "ename": "PermissionError",
     "evalue": "[Errno 13] Permission denied: 'final5.xlsx'",
     "output_type": "error",
     "traceback": [
      "\u001b[1;31m---------------------------------------------------------------------------\u001b[0m",
      "\u001b[1;31mPermissionError\u001b[0m                           Traceback (most recent call last)",
      "\u001b[1;32m<ipython-input-65-e1b40f6f6fbb>\u001b[0m in \u001b[0;36m<module>\u001b[1;34m\u001b[0m\n\u001b[1;32m----> 1\u001b[1;33m \u001b[1;32mwith\u001b[0m \u001b[0mpd\u001b[0m\u001b[1;33m.\u001b[0m\u001b[0mExcelWriter\u001b[0m\u001b[1;33m(\u001b[0m\u001b[1;34m'final5.xlsx'\u001b[0m\u001b[1;33m)\u001b[0m \u001b[1;32mas\u001b[0m \u001b[0mwriter1\u001b[0m\u001b[1;33m:\u001b[0m\u001b[1;33m\u001b[0m\u001b[1;33m\u001b[0m\u001b[0m\n\u001b[0m\u001b[0;32m      2\u001b[0m     \u001b[0mOverall\u001b[0m\u001b[1;33m.\u001b[0m\u001b[0mto_excel\u001b[0m\u001b[1;33m(\u001b[0m\u001b[0mwriter1\u001b[0m\u001b[1;33m,\u001b[0m \u001b[0msheet_name\u001b[0m \u001b[1;33m=\u001b[0m \u001b[1;34m'Overall'\u001b[0m\u001b[1;33m)\u001b[0m\u001b[1;33m\u001b[0m\u001b[1;33m\u001b[0m\u001b[0m\n\u001b[0;32m      3\u001b[0m     \u001b[1;32mfor\u001b[0m \u001b[0mi\u001b[0m \u001b[1;32min\u001b[0m \u001b[0mrange\u001b[0m\u001b[1;33m(\u001b[0m\u001b[0mdf\u001b[0m\u001b[1;33m[\u001b[0m\u001b[1;34m\"location_id\"\u001b[0m\u001b[1;33m]\u001b[0m\u001b[1;33m.\u001b[0m\u001b[0mnunique\u001b[0m\u001b[1;33m(\u001b[0m\u001b[1;33m)\u001b[0m\u001b[1;33m)\u001b[0m\u001b[1;33m:\u001b[0m\u001b[1;33m\u001b[0m\u001b[1;33m\u001b[0m\u001b[0m\n\u001b[0;32m      4\u001b[0m         \u001b[0mlocation_wise\u001b[0m\u001b[1;33m(\u001b[0m\u001b[0mdf\u001b[0m\u001b[1;33m,\u001b[0m\u001b[0mdf\u001b[0m\u001b[1;33m[\u001b[0m\u001b[1;34m\"location_id\"\u001b[0m\u001b[1;33m]\u001b[0m\u001b[1;33m[\u001b[0m\u001b[0mi\u001b[0m\u001b[1;33m]\u001b[0m\u001b[1;33m)\u001b[0m\u001b[1;33m.\u001b[0m\u001b[0mto_excel\u001b[0m\u001b[1;33m(\u001b[0m\u001b[0mwriter1\u001b[0m\u001b[1;33m,\u001b[0m \u001b[0msheet_name\u001b[0m \u001b[1;33m=\u001b[0m\u001b[1;34mf\"location {i}\"\u001b[0m\u001b[1;33m)\u001b[0m\u001b[1;33m\u001b[0m\u001b[1;33m\u001b[0m\u001b[0m\n\u001b[0;32m      5\u001b[0m \u001b[1;33m\u001b[0m\u001b[0m\n",
      "\u001b[1;32m~\\anaconda3\\lib\\site-packages\\pandas\\io\\excel\\_xlsxwriter.py\u001b[0m in \u001b[0;36m__init__\u001b[1;34m(self, path, engine, date_format, datetime_format, mode, storage_options, **engine_kwargs)\u001b[0m\n\u001b[0;32m    180\u001b[0m             \u001b[1;32mraise\u001b[0m \u001b[0mValueError\u001b[0m\u001b[1;33m(\u001b[0m\u001b[1;34m\"Append mode is not supported with xlsxwriter!\"\u001b[0m\u001b[1;33m)\u001b[0m\u001b[1;33m\u001b[0m\u001b[1;33m\u001b[0m\u001b[0m\n\u001b[0;32m    181\u001b[0m \u001b[1;33m\u001b[0m\u001b[0m\n\u001b[1;32m--> 182\u001b[1;33m         super().__init__(\n\u001b[0m\u001b[0;32m    183\u001b[0m             \u001b[0mpath\u001b[0m\u001b[1;33m,\u001b[0m\u001b[1;33m\u001b[0m\u001b[1;33m\u001b[0m\u001b[0m\n\u001b[0;32m    184\u001b[0m             \u001b[0mengine\u001b[0m\u001b[1;33m=\u001b[0m\u001b[0mengine\u001b[0m\u001b[1;33m,\u001b[0m\u001b[1;33m\u001b[0m\u001b[1;33m\u001b[0m\u001b[0m\n",
      "\u001b[1;32m~\\anaconda3\\lib\\site-packages\\pandas\\io\\excel\\_base.py\u001b[0m in \u001b[0;36m__init__\u001b[1;34m(self, path, engine, date_format, datetime_format, mode, storage_options, **engine_kwargs)\u001b[0m\n\u001b[0;32m    808\u001b[0m         \u001b[0mself\u001b[0m\u001b[1;33m.\u001b[0m\u001b[0mhandles\u001b[0m \u001b[1;33m=\u001b[0m \u001b[0mIOHandles\u001b[0m\u001b[1;33m(\u001b[0m\u001b[0mcast\u001b[0m\u001b[1;33m(\u001b[0m\u001b[0mBuffer\u001b[0m\u001b[1;33m,\u001b[0m \u001b[0mpath\u001b[0m\u001b[1;33m)\u001b[0m\u001b[1;33m,\u001b[0m \u001b[0mcompression\u001b[0m\u001b[1;33m=\u001b[0m\u001b[1;33m{\u001b[0m\u001b[1;34m\"copression\"\u001b[0m\u001b[1;33m:\u001b[0m \u001b[1;32mNone\u001b[0m\u001b[1;33m}\u001b[0m\u001b[1;33m)\u001b[0m\u001b[1;33m\u001b[0m\u001b[1;33m\u001b[0m\u001b[0m\n\u001b[0;32m    809\u001b[0m         \u001b[1;32mif\u001b[0m \u001b[1;32mnot\u001b[0m \u001b[0misinstance\u001b[0m\u001b[1;33m(\u001b[0m\u001b[0mpath\u001b[0m\u001b[1;33m,\u001b[0m \u001b[0mExcelWriter\u001b[0m\u001b[1;33m)\u001b[0m\u001b[1;33m:\u001b[0m\u001b[1;33m\u001b[0m\u001b[1;33m\u001b[0m\u001b[0m\n\u001b[1;32m--> 810\u001b[1;33m             self.handles = get_handle(\n\u001b[0m\u001b[0;32m    811\u001b[0m                 \u001b[0mpath\u001b[0m\u001b[1;33m,\u001b[0m \u001b[0mmode\u001b[0m\u001b[1;33m,\u001b[0m \u001b[0mstorage_options\u001b[0m\u001b[1;33m=\u001b[0m\u001b[0mstorage_options\u001b[0m\u001b[1;33m,\u001b[0m \u001b[0mis_text\u001b[0m\u001b[1;33m=\u001b[0m\u001b[1;32mFalse\u001b[0m\u001b[1;33m\u001b[0m\u001b[1;33m\u001b[0m\u001b[0m\n\u001b[0;32m    812\u001b[0m             )\n",
      "\u001b[1;32m~\\anaconda3\\lib\\site-packages\\pandas\\io\\common.py\u001b[0m in \u001b[0;36mget_handle\u001b[1;34m(path_or_buf, mode, encoding, compression, memory_map, is_text, errors, storage_options)\u001b[0m\n\u001b[0;32m    649\u001b[0m         \u001b[1;32melse\u001b[0m\u001b[1;33m:\u001b[0m\u001b[1;33m\u001b[0m\u001b[1;33m\u001b[0m\u001b[0m\n\u001b[0;32m    650\u001b[0m             \u001b[1;31m# Binary mode\u001b[0m\u001b[1;33m\u001b[0m\u001b[1;33m\u001b[0m\u001b[1;33m\u001b[0m\u001b[0m\n\u001b[1;32m--> 651\u001b[1;33m             \u001b[0mhandle\u001b[0m \u001b[1;33m=\u001b[0m \u001b[0mopen\u001b[0m\u001b[1;33m(\u001b[0m\u001b[0mhandle\u001b[0m\u001b[1;33m,\u001b[0m \u001b[0mioargs\u001b[0m\u001b[1;33m.\u001b[0m\u001b[0mmode\u001b[0m\u001b[1;33m)\u001b[0m\u001b[1;33m\u001b[0m\u001b[1;33m\u001b[0m\u001b[0m\n\u001b[0m\u001b[0;32m    652\u001b[0m         \u001b[0mhandles\u001b[0m\u001b[1;33m.\u001b[0m\u001b[0mappend\u001b[0m\u001b[1;33m(\u001b[0m\u001b[0mhandle\u001b[0m\u001b[1;33m)\u001b[0m\u001b[1;33m\u001b[0m\u001b[1;33m\u001b[0m\u001b[0m\n\u001b[0;32m    653\u001b[0m \u001b[1;33m\u001b[0m\u001b[0m\n",
      "\u001b[1;31mPermissionError\u001b[0m: [Errno 13] Permission denied: 'final5.xlsx'"
     ]
    }
   ],
   "source": [
    "with pd.ExcelWriter('final5.xlsx') as writer1:\n",
    "    Overall.to_excel(writer1, sheet_name = 'Overall')\n",
    "    for i in range(df[\"location_id\"].nunique()):\n",
    "        location_wise(df,df[\"location_id\"][i]).to_excel(writer1, sheet_name =f\"location {i}\")\n",
    "    "
   ]
  },
  {
   "cell_type": "code",
   "execution_count": null,
   "id": "4b4dddc3",
   "metadata": {},
   "outputs": [],
   "source": []
  },
  {
   "cell_type": "code",
   "execution_count": null,
   "id": "7bce8e20",
   "metadata": {},
   "outputs": [],
   "source": []
  },
  {
   "cell_type": "code",
   "execution_count": null,
   "id": "2de3fec4",
   "metadata": {},
   "outputs": [],
   "source": []
  },
  {
   "cell_type": "code",
   "execution_count": null,
   "id": "a8956760",
   "metadata": {},
   "outputs": [],
   "source": []
  }
 ],
 "metadata": {
  "kernelspec": {
   "display_name": "Python 3",
   "language": "python",
   "name": "python3"
  },
  "language_info": {
   "codemirror_mode": {
    "name": "ipython",
    "version": 3
   },
   "file_extension": ".py",
   "mimetype": "text/x-python",
   "name": "python",
   "nbconvert_exporter": "python",
   "pygments_lexer": "ipython3",
   "version": "3.8.8"
  }
 },
 "nbformat": 4,
 "nbformat_minor": 5
}
